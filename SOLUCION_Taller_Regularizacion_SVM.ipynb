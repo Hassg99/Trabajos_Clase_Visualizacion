{
  "nbformat": 4,
  "nbformat_minor": 0,
  "metadata": {
    "kernelspec": {
      "display_name": "Python 3",
      "language": "python",
      "name": "python3"
    },
    "language_info": {
      "codemirror_mode": {
        "name": "ipython",
        "version": 3
      },
      "file_extension": ".py",
      "mimetype": "text/x-python",
      "name": "python",
      "nbconvert_exporter": "python",
      "pygments_lexer": "ipython3",
      "version": "3.7.0"
    },
    "colab": {
      "name": "SOLUCION_Taller_Regularizacion_SVM.ipynb",
      "provenance": [],
      "collapsed_sections": []
    }
  },
  "cells": [
    {
      "cell_type": "markdown",
      "metadata": {
        "id": "goh8XqyWQwHS"
      },
      "source": [
        "## Taller Regularización y SVM\n",
        "\n",
        "\n",
        "Para esta tarea consideramos un conjunto de observaciones sobre una serie de variedades de vino tinto y blanco que implican sus propiedades químicas y su clasificación por parte de los catadores. La industria del vino ha experimentado un gran crecimiento en los últimos tiempos debido al aumento del consumo social. El precio del vino depende de un concepto bastante abstracto de apreciación del vino por parte de los catadores, cuya opinión puede tener un alto grado de variabilidad. El precio del vino depende en cierta medida de este factor tan volátil. Otro factor clave en la certificación y evaluación de la calidad del vino son las pruebas fisicoquímicas, que se realizan en laboratorio y tienen en cuenta factores como la acidez, el nivel de pH, la presencia de azúcar y otras propiedades químicas. Para el mercado del vino, sería interesante que la calidad humana de la cata pudiera relacionarse con las propiedades químicas del vino para que el proceso de certificación y evaluación de la calidad estuviera más controlado.\n",
        "\n",
        "Se dispone de dos conjuntos de datos, uno de los cuales se refiere al vino tinto y cuenta con 1.599 variedades diferentes, y el otro, al vino blanco, con 4.898 variedades. Todos los vinos se producen en una zona concreta de Portugal. Se recogen datos sobre 12 propiedades diferentes de los vinos, una de las cuales es la calidad, basada en datos sensoriales, y el resto son propiedades químicas de los vinos, como la densidad, la acidez, el contenido de alcohol, etc. Todas las propiedades químicas de los vinos son variables continuas. La calidad es una variable ordinal con una clasificación posible de 1 (peor) a 10 (mejor). Cada variedad de vino es catada por tres catadores independientes y la clasificación final asignada es la mediana de la clasificación dada por los catadores.\n",
        "\n",
        "Se espera que un modelo predictivo desarrollado a partir de estos datos sirva de orientación a los viñedos en cuanto a la calidad y el precio que se espera obtener de sus productos sin depender en gran medida de la volatilidad de los catadores.\n"
      ]
    },
    {
      "cell_type": "code",
      "metadata": {
        "id": "m4dAFqRiQwHd"
      },
      "source": [
        "import pandas as pd\n",
        "import numpy as np\n",
        "\n",
        "from sklearn.model_selection import train_test_split\n",
        "from sklearn import metrics\n",
        "\n",
        "from sklearn.linear_model import LinearRegression\n",
        "from sklearn.linear_model import Ridge\n",
        "from sklearn.linear_model import Lasso\n",
        "\n",
        "from sklearn.preprocessing import StandardScaler\n",
        "from sklearn.linear_model import LogisticRegression\n",
        "\n",
        "from sklearn.metrics import roc_auc_score\n",
        "\n",
        "from sklearn.preprocessing import StandardScaler\n",
        "from sklearn.svm import SVC\n",
        "\n",
        "from sklearn.model_selection import GridSearchCV\n"
      ],
      "execution_count": null,
      "outputs": []
    },
    {
      "cell_type": "code",
      "metadata": {
        "id": "j0S8ZSeuQwHh"
      },
      "source": [
        "data_r = pd.read_csv('https://github.com/albahnsen/PracticalMachineLearningClass/raw/master/datasets/Wine_data_red.csv')\n",
        "data_w = pd.read_csv('https://github.com/albahnsen/PracticalMachineLearningClass/raw/master/datasets/Wine_data_white.csv')"
      ],
      "execution_count": null,
      "outputs": []
    },
    {
      "cell_type": "code",
      "metadata": {
        "colab": {
          "base_uri": "https://localhost:8080/",
          "height": 221
        },
        "id": "zL6G49RMQwHl",
        "outputId": "2c1eaddf-7250-4c64-82a9-ff575df3940e"
      },
      "source": [
        "data = data_w.assign(type = 'white')\n",
        "\n",
        "data = data.append(data_r.assign(type = 'red'), ignore_index=True)\n",
        "data.sample(5)"
      ],
      "execution_count": null,
      "outputs": [
        {
          "output_type": "execute_result",
          "data": {
            "text/html": [
              "<div>\n",
              "<style scoped>\n",
              "    .dataframe tbody tr th:only-of-type {\n",
              "        vertical-align: middle;\n",
              "    }\n",
              "\n",
              "    .dataframe tbody tr th {\n",
              "        vertical-align: top;\n",
              "    }\n",
              "\n",
              "    .dataframe thead th {\n",
              "        text-align: right;\n",
              "    }\n",
              "</style>\n",
              "<table border=\"1\" class=\"dataframe\">\n",
              "  <thead>\n",
              "    <tr style=\"text-align: right;\">\n",
              "      <th></th>\n",
              "      <th>fixed acidity</th>\n",
              "      <th>volatile acidity</th>\n",
              "      <th>citric acid</th>\n",
              "      <th>residual sugar</th>\n",
              "      <th>chlorides</th>\n",
              "      <th>free sulfur dioxide</th>\n",
              "      <th>total sulfur dioxide</th>\n",
              "      <th>density</th>\n",
              "      <th>pH</th>\n",
              "      <th>sulphates</th>\n",
              "      <th>alcohol</th>\n",
              "      <th>quality</th>\n",
              "      <th>type</th>\n",
              "    </tr>\n",
              "  </thead>\n",
              "  <tbody>\n",
              "    <tr>\n",
              "      <th>2065</th>\n",
              "      <td>7.8</td>\n",
              "      <td>0.27</td>\n",
              "      <td>0.28</td>\n",
              "      <td>1.8</td>\n",
              "      <td>0.050</td>\n",
              "      <td>21.0</td>\n",
              "      <td>127.0</td>\n",
              "      <td>0.99340</td>\n",
              "      <td>3.15</td>\n",
              "      <td>0.44</td>\n",
              "      <td>9.9</td>\n",
              "      <td>5</td>\n",
              "      <td>white</td>\n",
              "    </tr>\n",
              "    <tr>\n",
              "      <th>4031</th>\n",
              "      <td>6.4</td>\n",
              "      <td>0.29</td>\n",
              "      <td>0.57</td>\n",
              "      <td>1.0</td>\n",
              "      <td>0.060</td>\n",
              "      <td>15.0</td>\n",
              "      <td>120.0</td>\n",
              "      <td>0.99240</td>\n",
              "      <td>3.06</td>\n",
              "      <td>0.41</td>\n",
              "      <td>9.5</td>\n",
              "      <td>5</td>\n",
              "      <td>white</td>\n",
              "    </tr>\n",
              "    <tr>\n",
              "      <th>5972</th>\n",
              "      <td>7.5</td>\n",
              "      <td>0.77</td>\n",
              "      <td>0.20</td>\n",
              "      <td>8.1</td>\n",
              "      <td>0.098</td>\n",
              "      <td>30.0</td>\n",
              "      <td>92.0</td>\n",
              "      <td>0.99892</td>\n",
              "      <td>3.20</td>\n",
              "      <td>0.58</td>\n",
              "      <td>9.2</td>\n",
              "      <td>5</td>\n",
              "      <td>red</td>\n",
              "    </tr>\n",
              "    <tr>\n",
              "      <th>4581</th>\n",
              "      <td>6.0</td>\n",
              "      <td>0.27</td>\n",
              "      <td>0.26</td>\n",
              "      <td>1.3</td>\n",
              "      <td>0.038</td>\n",
              "      <td>32.0</td>\n",
              "      <td>138.0</td>\n",
              "      <td>0.99125</td>\n",
              "      <td>3.46</td>\n",
              "      <td>0.43</td>\n",
              "      <td>11.1</td>\n",
              "      <td>6</td>\n",
              "      <td>white</td>\n",
              "    </tr>\n",
              "    <tr>\n",
              "      <th>1124</th>\n",
              "      <td>9.6</td>\n",
              "      <td>0.23</td>\n",
              "      <td>0.40</td>\n",
              "      <td>1.5</td>\n",
              "      <td>0.044</td>\n",
              "      <td>19.0</td>\n",
              "      <td>135.0</td>\n",
              "      <td>0.99370</td>\n",
              "      <td>2.96</td>\n",
              "      <td>0.49</td>\n",
              "      <td>10.9</td>\n",
              "      <td>5</td>\n",
              "      <td>white</td>\n",
              "    </tr>\n",
              "  </tbody>\n",
              "</table>\n",
              "</div>"
            ],
            "text/plain": [
              "      fixed acidity  volatile acidity  citric acid  ...  alcohol  quality   type\n",
              "2065            7.8              0.27         0.28  ...      9.9        5  white\n",
              "4031            6.4              0.29         0.57  ...      9.5        5  white\n",
              "5972            7.5              0.77         0.20  ...      9.2        5    red\n",
              "4581            6.0              0.27         0.26  ...     11.1        6  white\n",
              "1124            9.6              0.23         0.40  ...     10.9        5  white\n",
              "\n",
              "[5 rows x 13 columns]"
            ]
          },
          "metadata": {},
          "execution_count": 3
        }
      ]
    },
    {
      "cell_type": "code",
      "metadata": {
        "colab": {
          "base_uri": "https://localhost:8080/"
        },
        "id": "v4tG3aszSHwx",
        "outputId": "b70c27e4-3841-409f-b4c6-2ee613360916"
      },
      "source": [
        "data.quality.value_counts()"
      ],
      "execution_count": null,
      "outputs": [
        {
          "output_type": "execute_result",
          "data": {
            "text/plain": [
              "6    2836\n",
              "5    2138\n",
              "7    1079\n",
              "4     216\n",
              "8     193\n",
              "3      30\n",
              "9       5\n",
              "Name: quality, dtype: int64"
            ]
          },
          "metadata": {},
          "execution_count": 4
        }
      ]
    },
    {
      "cell_type": "code",
      "metadata": {
        "colab": {
          "base_uri": "https://localhost:8080/"
        },
        "id": "Aulg4Pz5SIDO",
        "outputId": "1115ddae-4a5b-4a34-cb9e-6dcc2dd4a927"
      },
      "source": [
        "data.type.value_counts()"
      ],
      "execution_count": null,
      "outputs": [
        {
          "output_type": "execute_result",
          "data": {
            "text/plain": [
              "white    4898\n",
              "red      1599\n",
              "Name: type, dtype: int64"
            ]
          },
          "metadata": {},
          "execution_count": 5
        }
      ]
    },
    {
      "cell_type": "code",
      "metadata": {
        "colab": {
          "base_uri": "https://localhost:8080/"
        },
        "id": "obFKLh3mMk2i",
        "outputId": "46d81a13-521b-45ec-bc32-841658556e70"
      },
      "source": [
        "data.columns.values"
      ],
      "execution_count": null,
      "outputs": [
        {
          "output_type": "execute_result",
          "data": {
            "text/plain": [
              "array(['fixed acidity', 'volatile acidity', 'citric acid',\n",
              "       'residual sugar', 'chlorides', 'free sulfur dioxide',\n",
              "       'total sulfur dioxide', 'density', 'pH', 'sulphates', 'alcohol',\n",
              "       'quality', 'type', 'type2', 'quality2'], dtype=object)"
            ]
          },
          "metadata": {},
          "execution_count": 34
        }
      ]
    },
    {
      "cell_type": "markdown",
      "metadata": {
        "id": "ijwzlA_FQwHq"
      },
      "source": [
        "# Ejercicio 1\n",
        "\n",
        "Mostrar la tabla de frecuencias de la calidad por tipo de vino."
      ]
    },
    {
      "cell_type": "code",
      "metadata": {
        "colab": {
          "base_uri": "https://localhost:8080/",
          "height": 142
        },
        "id": "HswJTeeSDSTM",
        "outputId": "5db7110c-76fd-476b-cfc9-1c84430516d0"
      },
      "source": [
        "# Tabla de frecuencias 1\n",
        "pd.crosstab(index=data[\"type\"], columns=[data[\"quality\"]])"
      ],
      "execution_count": null,
      "outputs": [
        {
          "output_type": "execute_result",
          "data": {
            "text/html": [
              "<div>\n",
              "<style scoped>\n",
              "    .dataframe tbody tr th:only-of-type {\n",
              "        vertical-align: middle;\n",
              "    }\n",
              "\n",
              "    .dataframe tbody tr th {\n",
              "        vertical-align: top;\n",
              "    }\n",
              "\n",
              "    .dataframe thead th {\n",
              "        text-align: right;\n",
              "    }\n",
              "</style>\n",
              "<table border=\"1\" class=\"dataframe\">\n",
              "  <thead>\n",
              "    <tr style=\"text-align: right;\">\n",
              "      <th>quality</th>\n",
              "      <th>3</th>\n",
              "      <th>4</th>\n",
              "      <th>5</th>\n",
              "      <th>6</th>\n",
              "      <th>7</th>\n",
              "      <th>8</th>\n",
              "      <th>9</th>\n",
              "    </tr>\n",
              "    <tr>\n",
              "      <th>type</th>\n",
              "      <th></th>\n",
              "      <th></th>\n",
              "      <th></th>\n",
              "      <th></th>\n",
              "      <th></th>\n",
              "      <th></th>\n",
              "      <th></th>\n",
              "    </tr>\n",
              "  </thead>\n",
              "  <tbody>\n",
              "    <tr>\n",
              "      <th>red</th>\n",
              "      <td>10</td>\n",
              "      <td>53</td>\n",
              "      <td>681</td>\n",
              "      <td>638</td>\n",
              "      <td>199</td>\n",
              "      <td>18</td>\n",
              "      <td>0</td>\n",
              "    </tr>\n",
              "    <tr>\n",
              "      <th>white</th>\n",
              "      <td>20</td>\n",
              "      <td>163</td>\n",
              "      <td>1457</td>\n",
              "      <td>2198</td>\n",
              "      <td>880</td>\n",
              "      <td>175</td>\n",
              "      <td>5</td>\n",
              "    </tr>\n",
              "  </tbody>\n",
              "</table>\n",
              "</div>"
            ],
            "text/plain": [
              "quality   3    4     5     6    7    8  9\n",
              "type                                     \n",
              "red      10   53   681   638  199   18  0\n",
              "white    20  163  1457  2198  880  175  5"
            ]
          },
          "metadata": {},
          "execution_count": 23
        }
      ]
    },
    {
      "cell_type": "code",
      "metadata": {
        "id": "4s07Ier6QwHs",
        "colab": {
          "base_uri": "https://localhost:8080/",
          "height": 500
        },
        "outputId": "c97ae2b6-8897-4dcb-c474-868ee8555d9c"
      },
      "source": [
        "# Tabla de frecuencias 2\n",
        "pd.pivot_table(data, index = [\"quality\", \"type\"], aggfunc= np.sum)"
      ],
      "execution_count": null,
      "outputs": [
        {
          "output_type": "execute_result",
          "data": {
            "text/html": [
              "<div>\n",
              "<style scoped>\n",
              "    .dataframe tbody tr th:only-of-type {\n",
              "        vertical-align: middle;\n",
              "    }\n",
              "\n",
              "    .dataframe tbody tr th {\n",
              "        vertical-align: top;\n",
              "    }\n",
              "\n",
              "    .dataframe thead th {\n",
              "        text-align: right;\n",
              "    }\n",
              "</style>\n",
              "<table border=\"1\" class=\"dataframe\">\n",
              "  <thead>\n",
              "    <tr style=\"text-align: right;\">\n",
              "      <th></th>\n",
              "      <th></th>\n",
              "      <th>alcohol</th>\n",
              "      <th>chlorides</th>\n",
              "      <th>citric acid</th>\n",
              "      <th>density</th>\n",
              "      <th>fixed acidity</th>\n",
              "      <th>free sulfur dioxide</th>\n",
              "      <th>pH</th>\n",
              "      <th>residual sugar</th>\n",
              "      <th>sulphates</th>\n",
              "      <th>total sulfur dioxide</th>\n",
              "      <th>volatile acidity</th>\n",
              "    </tr>\n",
              "    <tr>\n",
              "      <th>quality</th>\n",
              "      <th>type</th>\n",
              "      <th></th>\n",
              "      <th></th>\n",
              "      <th></th>\n",
              "      <th></th>\n",
              "      <th></th>\n",
              "      <th></th>\n",
              "      <th></th>\n",
              "      <th></th>\n",
              "      <th></th>\n",
              "      <th></th>\n",
              "      <th></th>\n",
              "    </tr>\n",
              "  </thead>\n",
              "  <tbody>\n",
              "    <tr>\n",
              "      <th rowspan=\"2\" valign=\"top\">3</th>\n",
              "      <th>red</th>\n",
              "      <td>99.550000</td>\n",
              "      <td>1.225</td>\n",
              "      <td>1.71</td>\n",
              "      <td>9.974640</td>\n",
              "      <td>83.60</td>\n",
              "      <td>110.0</td>\n",
              "      <td>33.98</td>\n",
              "      <td>26.35</td>\n",
              "      <td>5.70</td>\n",
              "      <td>249.0</td>\n",
              "      <td>8.845</td>\n",
              "    </tr>\n",
              "    <tr>\n",
              "      <th>white</th>\n",
              "      <td>206.900000</td>\n",
              "      <td>1.086</td>\n",
              "      <td>6.72</td>\n",
              "      <td>19.897680</td>\n",
              "      <td>152.00</td>\n",
              "      <td>1066.5</td>\n",
              "      <td>63.75</td>\n",
              "      <td>127.85</td>\n",
              "      <td>9.49</td>\n",
              "      <td>3412.0</td>\n",
              "      <td>6.665</td>\n",
              "    </tr>\n",
              "    <tr>\n",
              "      <th rowspan=\"2\" valign=\"top\">4</th>\n",
              "      <th>red</th>\n",
              "      <td>544.050000</td>\n",
              "      <td>4.806</td>\n",
              "      <td>9.23</td>\n",
              "      <td>52.816750</td>\n",
              "      <td>412.30</td>\n",
              "      <td>650.0</td>\n",
              "      <td>179.22</td>\n",
              "      <td>142.80</td>\n",
              "      <td>31.61</td>\n",
              "      <td>1921.0</td>\n",
              "      <td>36.780</td>\n",
              "    </tr>\n",
              "    <tr>\n",
              "      <th>white</th>\n",
              "      <td>1654.850000</td>\n",
              "      <td>8.166</td>\n",
              "      <td>49.59</td>\n",
              "      <td>162.067100</td>\n",
              "      <td>1162.10</td>\n",
              "      <td>3807.5</td>\n",
              "      <td>518.81</td>\n",
              "      <td>754.40</td>\n",
              "      <td>77.61</td>\n",
              "      <td>20420.5</td>\n",
              "      <td>62.140</td>\n",
              "    </tr>\n",
              "    <tr>\n",
              "      <th rowspan=\"2\" valign=\"top\">5</th>\n",
              "      <th>red</th>\n",
              "      <td>6741.700000</td>\n",
              "      <td>63.153</td>\n",
              "      <td>165.95</td>\n",
              "      <td>679.027570</td>\n",
              "      <td>5561.90</td>\n",
              "      <td>11566.0</td>\n",
              "      <td>2250.67</td>\n",
              "      <td>1722.15</td>\n",
              "      <td>422.88</td>\n",
              "      <td>38486.0</td>\n",
              "      <td>392.965</td>\n",
              "    </tr>\n",
              "    <tr>\n",
              "      <th>white</th>\n",
              "      <td>14291.480000</td>\n",
              "      <td>75.103</td>\n",
              "      <td>491.96</td>\n",
              "      <td>1450.097565</td>\n",
              "      <td>10102.80</td>\n",
              "      <td>53081.5</td>\n",
              "      <td>4616.99</td>\n",
              "      <td>10687.05</td>\n",
              "      <td>702.57</td>\n",
              "      <td>219868.0</td>\n",
              "      <td>440.030</td>\n",
              "    </tr>\n",
              "    <tr>\n",
              "      <th rowspan=\"2\" valign=\"top\">6</th>\n",
              "      <th>red</th>\n",
              "      <td>6781.633333</td>\n",
              "      <td>54.202</td>\n",
              "      <td>174.70</td>\n",
              "      <td>635.840410</td>\n",
              "      <td>5325.50</td>\n",
              "      <td>10024.0</td>\n",
              "      <td>2116.93</td>\n",
              "      <td>1580.45</td>\n",
              "      <td>430.86</td>\n",
              "      <td>26075.0</td>\n",
              "      <td>317.395</td>\n",
              "    </tr>\n",
              "    <tr>\n",
              "      <th>white</th>\n",
              "      <td>23244.666667</td>\n",
              "      <td>99.388</td>\n",
              "      <td>742.98</td>\n",
              "      <td>2184.727045</td>\n",
              "      <td>15029.20</td>\n",
              "      <td>78360.0</td>\n",
              "      <td>7008.54</td>\n",
              "      <td>14158.65</td>\n",
              "      <td>1079.45</td>\n",
              "      <td>301230.0</td>\n",
              "      <td>572.720</td>\n",
              "    </tr>\n",
              "    <tr>\n",
              "      <th rowspan=\"2\" valign=\"top\">7</th>\n",
              "      <th>red</th>\n",
              "      <td>2281.716667</td>\n",
              "      <td>15.241</td>\n",
              "      <td>74.66</td>\n",
              "      <td>198.224750</td>\n",
              "      <td>1765.60</td>\n",
              "      <td>2795.0</td>\n",
              "      <td>654.86</td>\n",
              "      <td>541.40</td>\n",
              "      <td>147.51</td>\n",
              "      <td>6969.0</td>\n",
              "      <td>80.380</td>\n",
              "    </tr>\n",
              "    <tr>\n",
              "      <th>white</th>\n",
              "      <td>10003.783333</td>\n",
              "      <td>33.608</td>\n",
              "      <td>286.55</td>\n",
              "      <td>873.358110</td>\n",
              "      <td>5926.55</td>\n",
              "      <td>30030.5</td>\n",
              "      <td>2828.23</td>\n",
              "      <td>4564.10</td>\n",
              "      <td>442.73</td>\n",
              "      <td>110101.0</td>\n",
              "      <td>231.235</td>\n",
              "    </tr>\n",
              "    <tr>\n",
              "      <th rowspan=\"2\" valign=\"top\">8</th>\n",
              "      <th>red</th>\n",
              "      <td>217.700000</td>\n",
              "      <td>1.232</td>\n",
              "      <td>7.04</td>\n",
              "      <td>17.913820</td>\n",
              "      <td>154.20</td>\n",
              "      <td>239.0</td>\n",
              "      <td>58.81</td>\n",
              "      <td>46.40</td>\n",
              "      <td>13.82</td>\n",
              "      <td>602.0</td>\n",
              "      <td>7.620</td>\n",
              "    </tr>\n",
              "    <tr>\n",
              "      <th>white</th>\n",
              "      <td>2036.300000</td>\n",
              "      <td>6.705</td>\n",
              "      <td>57.14</td>\n",
              "      <td>173.641290</td>\n",
              "      <td>1165.00</td>\n",
              "      <td>6426.0</td>\n",
              "      <td>563.27</td>\n",
              "      <td>992.50</td>\n",
              "      <td>85.09</td>\n",
              "      <td>22079.0</td>\n",
              "      <td>48.545</td>\n",
              "    </tr>\n",
              "    <tr>\n",
              "      <th>9</th>\n",
              "      <th>white</th>\n",
              "      <td>60.900000</td>\n",
              "      <td>0.137</td>\n",
              "      <td>1.93</td>\n",
              "      <td>4.957300</td>\n",
              "      <td>37.10</td>\n",
              "      <td>167.0</td>\n",
              "      <td>16.54</td>\n",
              "      <td>20.60</td>\n",
              "      <td>2.33</td>\n",
              "      <td>580.0</td>\n",
              "      <td>1.490</td>\n",
              "    </tr>\n",
              "  </tbody>\n",
              "</table>\n",
              "</div>"
            ],
            "text/plain": [
              "                    alcohol  chlorides  ...  total sulfur dioxide  volatile acidity\n",
              "quality type                            ...                                        \n",
              "3       red       99.550000      1.225  ...                 249.0             8.845\n",
              "        white    206.900000      1.086  ...                3412.0             6.665\n",
              "4       red      544.050000      4.806  ...                1921.0            36.780\n",
              "        white   1654.850000      8.166  ...               20420.5            62.140\n",
              "5       red     6741.700000     63.153  ...               38486.0           392.965\n",
              "        white  14291.480000     75.103  ...              219868.0           440.030\n",
              "6       red     6781.633333     54.202  ...               26075.0           317.395\n",
              "        white  23244.666667     99.388  ...              301230.0           572.720\n",
              "7       red     2281.716667     15.241  ...                6969.0            80.380\n",
              "        white  10003.783333     33.608  ...              110101.0           231.235\n",
              "8       red      217.700000      1.232  ...                 602.0             7.620\n",
              "        white   2036.300000      6.705  ...               22079.0            48.545\n",
              "9       white     60.900000      0.137  ...                 580.0             1.490\n",
              "\n",
              "[13 rows x 11 columns]"
            ]
          },
          "metadata": {},
          "execution_count": 24
        }
      ]
    },
    {
      "cell_type": "markdown",
      "metadata": {
        "id": "v2kdBq6RQwIA"
      },
      "source": [
        "# Ejercicio 2\n",
        "\n",
        "* Entrenar una regresión lineal para predecir la calidad del vino (Continuo)\n",
        "\n",
        "* Analice los coeficientes\n",
        "\n",
        "* Evaluar el RMSE"
      ]
    },
    {
      "cell_type": "code",
      "metadata": {
        "id": "Z6OL8rDIJPpr"
      },
      "source": [
        "# Crear variables binarias\n",
        "data['type2'] = data['type'].map({'white':0, 'red':1})\n",
        "data['quality2'] = data.quality.map({3:0, 4:0, 5:0, 6:1, 7:1, 8:1, 9:1})"
      ],
      "execution_count": null,
      "outputs": []
    },
    {
      "cell_type": "code",
      "metadata": {
        "colab": {
          "base_uri": "https://localhost:8080/"
        },
        "id": "wVB_b_F8Lp_c",
        "outputId": "ab460827-58d1-4216-8e92-33a1b18c3f02"
      },
      "source": [
        "# Train-test\n",
        "\n",
        "feature_cols = ['fixed acidity', 'volatile acidity', 'citric acid', 'residual sugar', 'chlorides', 'free sulfur dioxide',\n",
        "                 'total sulfur dioxide', 'density', 'pH', 'sulphates', 'alcohol','type2']\n",
        "\n",
        "X = data[feature_cols]\n",
        "y = data.quality\n",
        "\n",
        "X_train, X_test, y_train, y_test = train_test_split(X, y, test_size=0.2, random_state=456)\n",
        "print(X_train.shape, X_test.shape, y_train.shape, y_test.shape)  "
      ],
      "execution_count": null,
      "outputs": [
        {
          "output_type": "stream",
          "name": "stdout",
          "text": [
            "(5197, 12) (1300, 12) (5197,) (1300,)\n"
          ]
        }
      ]
    },
    {
      "cell_type": "code",
      "metadata": {
        "id": "voNg9VcwIUIc",
        "colab": {
          "base_uri": "https://localhost:8080/"
        },
        "outputId": "3ed69381-7a9b-417a-a63f-438f09061ca1"
      },
      "source": [
        "#Modelo:\n",
        "\n",
        "modelo1 = LinearRegression()\n",
        "modelo1.fit(X_train, y_train)\n",
        "y_pred = modelo1.predict(X_test)\n",
        "\n",
        "print(modelo1.coef_)\n",
        "\n",
        "### RMSE #####\n",
        "print(\"RMSE: \",np.sqrt(metrics.mean_squared_error(y_test, y_pred)))"
      ],
      "execution_count": null,
      "outputs": [
        {
          "output_type": "stream",
          "name": "stdout",
          "text": [
            "[ 8.54940888e-02 -1.49758834e+00 -6.78944004e-02  6.41440109e-02\n",
            " -7.78717492e-01  4.71921844e-03 -1.23848988e-03 -1.04642791e+02\n",
            "  5.07676763e-01  6.92181980e-01  2.32039126e-01  3.84830323e-01]\n",
            "RMSE:  0.7412790604053446\n"
          ]
        }
      ]
    },
    {
      "cell_type": "markdown",
      "metadata": {
        "id": "UEDE5xcYFQmS"
      },
      "source": [
        "Analisis de los coeficientes:\n",
        "\n",
        "1. fixed acidity: El aumento de una unidad de acidez fija implicaría un incremento de 0.085494 puntos en la calidad del vino.\n",
        "\n",
        "2. volatile acidity: El aumento de una unidad en la acidez volátil implicaría una disminución de 1.4975 puntos en la calidad del vino.\n",
        "\n",
        "3. citric acid: El aumento de una unidad en el ácido cítrico implicaría una disminución de 0.0678 puntos en la calidad del vino.\n",
        "\n",
        "4. residual sugar: El aumento de una unidad del azúcar residual implicaría un incremento de 0.064144 puntos en la calidad del vino.\n",
        "\n",
        "5. chlorides: El aumento de una unidad en las calorias implicaría una disminución de 0.7787 puntos en la calidad del vino\n",
        "\n",
        "6. free sulfur dioxide: El aumento de una unidad del dióxido de azufre libre implicaría un incremento de 0.0431 puntos en la calidad del vino.\n",
        "\n",
        "7. total sulfur dioxide: El aumento de una unidad del dióxido de azufre total implicaría una disminución de 1.2384 puntos en la calidad del vino\n",
        "\n",
        "8. density: El aumento de una unidad de la densidad implicaría una disminución de 1.0464 puntos en la calidad del vino\n",
        "\n",
        "9. pH: El aumento de una unidad del pH implicaría un incremento de 0.507 puntos en la calidad del vino.\n",
        "\n",
        "10. sulphates: El aumento de una unidad del sulfato implicaría un incremento de 0.69218 puntos en la calidad del vino.\n",
        "\n",
        "11. alcohol: El aumento de una unidad de alcohol implicaría un incremento de 0.2320 puntos en la calidad del vino.\n",
        "\n",
        "12. type: Entre mas se acerque al tipo de vino rojo en una unidad, la calidad del vino aumenta en 0.3848\n"
      ]
    },
    {
      "cell_type": "markdown",
      "metadata": {
        "id": "V_mBGZY-QwIC"
      },
      "source": [
        "# Ejercicio 3\n",
        "\n",
        "* Estimar una regresión de Ridge con alfa igual a 0,1 y 1.\n",
        "* Compare y analice los coeficientes de Ridge con la regresión lineal\n",
        "* Evaluar el RMSE"
      ]
    },
    {
      "cell_type": "code",
      "metadata": {
        "id": "jzUrCbUyQwID",
        "colab": {
          "base_uri": "https://localhost:8080/"
        },
        "outputId": "ab434a54-6e15-40f2-dcc7-831edccf6cf0"
      },
      "source": [
        "#Regresión de Ridge con alpha = 0.1\n",
        "\n",
        "ridgereg = Ridge(alpha=0.1, normalize=True)\n",
        "ridgereg.fit(X_train, y_train)\n",
        "y_pred = ridgereg.predict(X_test)\n",
        "\n",
        "print(\"Coeficientes de Ridge con alpha = 0.1: \", '\\n', '\\n', ridgereg.coef_)\n",
        "print('\\n', \"RMSE: \", np.sqrt(metrics.mean_squared_error(y_test, y_pred)))"
      ],
      "execution_count": null,
      "outputs": [
        {
          "output_type": "stream",
          "name": "stdout",
          "text": [
            "Coeficientes de Ridge con alpha = 0.1:  \n",
            " \n",
            " [ 2.44588347e-02 -1.23753983e+00  3.14879877e-02  2.99064342e-02\n",
            " -1.20249690e+00  4.40719004e-03 -1.38038043e-03 -3.77806705e+01\n",
            "  2.22099107e-01  5.89285509e-01  2.62397115e-01  1.39215540e-01]\n",
            "\n",
            " RMSE:  0.7419468070835197\n"
          ]
        }
      ]
    },
    {
      "cell_type": "code",
      "metadata": {
        "colab": {
          "base_uri": "https://localhost:8080/"
        },
        "id": "Fq6bXh4QUklQ",
        "outputId": "7bc9bfcc-1ff1-40a4-860f-9dc424f63b5a"
      },
      "source": [
        "# Regresión de Ridge con alpha = 1\n",
        "\n",
        "ridgereg = Ridge(alpha=1, normalize=True)\n",
        "ridgereg.fit(X_train, y_train)\n",
        "y_pred = ridgereg.predict(X_test)\n",
        "\n",
        "print(\"Coeficientes de Ridge con alpha = 1: \", '\\n', '\\n', ridgereg.coef_)\n",
        "print('\\n', \"RMSE: \", np.sqrt(metrics.mean_squared_error(y_test, y_pred)))"
      ],
      "execution_count": null,
      "outputs": [
        {
          "output_type": "stream",
          "name": "stdout",
          "text": [
            "Coeficientes de Ridge con alpha = 1:  \n",
            " \n",
            " [ 1.86223905e-04 -5.68051730e-01  1.68619002e-01  5.73521034e-03\n",
            " -1.33305626e+00  1.61200670e-03 -5.81848853e-04 -2.30475660e+01\n",
            "  7.65433089e-02  2.91695372e-01  1.40694735e-01 -1.26603805e-02]\n",
            "\n",
            " RMSE:  0.77294081168326\n"
          ]
        }
      ]
    },
    {
      "cell_type": "markdown",
      "metadata": {
        "id": "dInVP2sGF_dj"
      },
      "source": [
        "Analisis de los coeficientes:\n",
        "\n",
        "1. fixed acidity: El aumento de una unidad de acidez fija implicaría un incremento de 0.000186 puntos en la calidad del vino.\n",
        "\n",
        "2. volatile acidity: El aumento de una unidad en la acidez volátil implicaría una disminución de -0.568 puntos en la calidad del vino.\n",
        "\n",
        "3. citric acid: El aumento de una unidad en el ácido cítrico implicaría un aumento del 0.1686 puntos en la calidad del vino.\n",
        "\n",
        "4. residual sugar: El aumento de una unidad del azúcar residual implicaría un incremento de 0.005735 puntos en la calidad del vino.\n",
        "\n",
        "5. chlorides: El aumento de una unidad en las calorias implicaría una disminución de -1.333 puntos en la calidad del vino\n",
        "\n",
        "6. free sulfur dioxide: El aumento de una unidad del dióxido de azufre libre implicaría un incremento de 0.001612 puntos en la calidad del vino.\n",
        "\n",
        "7. total sulfur dioxide: El aumento de una unidad del dióxido de azufre total implicaría una disminución de 0.0005818 puntos en la calidad del vino\n",
        "\n",
        "8. density: El aumento de una unidad de la densidad implicaría una disminución de 0.2304 puntos en la calidad del vino\n",
        "\n",
        "9. pH: El aumento de una unidad del pH implicaría un incremento de 0.1406 puntos en la calidad del vino.\n",
        "\n",
        "10. sulphates: El aumento de una unidad del sulfato implicaría una disminución de 0.01266 puntos en la calidad del vino.\n",
        "\n",
        "11. alcohol: El aumento de una unidad de alcohol implicaría un incremento de 0.2320 puntos en la calidad del vino.\n",
        "\n",
        "12. type: Entre mas se acerque al tipo de vino rojo en una unidad, la calidad del vino aumenta en 0.3848"
      ]
    },
    {
      "cell_type": "markdown",
      "metadata": {
        "id": "lH8tHz38QwIE"
      },
      "source": [
        "# Ejercicio 4\n",
        "\n",
        "* Estimar una regresión lasso con alfa igual a 0,01, 0,1 y 1.\n",
        "* Comparar los coeficientes con la regresión lineal\n",
        "* Evaluar el RMSE"
      ]
    },
    {
      "cell_type": "code",
      "metadata": {
        "id": "0ssJaCEzQwIF",
        "colab": {
          "base_uri": "https://localhost:8080/"
        },
        "outputId": "3c9c6048-268d-42fe-9e4d-27fc4ba8998a"
      },
      "source": [
        "# Lasso con alpha = 0.01\n",
        "\n",
        "lassoreg1 = Lasso(alpha=0.01, normalize=True)\n",
        "lassoreg1.fit(X_train, y_train)\n",
        "y_pred = lassoreg1.predict(X_test)\n",
        "\n",
        "print(\"Coeficientes de Lasso con alpha = 0.01: \", lassoreg1.coef_)\n",
        "print('\\n', \"RMSE: \", np.sqrt(metrics.mean_squared_error(y_test, y_pred)))"
      ],
      "execution_count": null,
      "outputs": [
        {
          "output_type": "stream",
          "name": "stdout",
          "text": [
            "Coeficientes de Lasso con alpha = 0.01:  [-0. -0.  0. -0. -0.  0. -0. -0.  0.  0.  0. -0.]\n",
            "\n",
            " RMSE:  0.8683174491433667\n"
          ]
        }
      ]
    },
    {
      "cell_type": "code",
      "metadata": {
        "colab": {
          "base_uri": "https://localhost:8080/"
        },
        "id": "sdYsC9kYWHWo",
        "outputId": "96f0f222-3430-4281-9ca0-2712b3e94ebe"
      },
      "source": [
        "# Lasso con alpha = 0.1\n",
        "\n",
        "lassoreg2 = Lasso(alpha=0.1, normalize=True)\n",
        "lassoreg2.fit(X_train, y_train)\n",
        "y_pred = lassoreg2.predict(X_test)\n",
        "\n",
        "print(\"Coeficientes de Lasso con alpha = 0.1: \", lassoreg2.coef_)\n",
        "print('\\n', \"RMSE: \", np.sqrt(metrics.mean_squared_error(y_test, y_pred)))"
      ],
      "execution_count": null,
      "outputs": [
        {
          "output_type": "stream",
          "name": "stdout",
          "text": [
            "Coeficientes de Lasso con alpha = 0.1:  [-0. -0.  0. -0. -0.  0. -0. -0.  0.  0.  0. -0.]\n",
            "\n",
            " RMSE:  0.8683174491433667\n"
          ]
        }
      ]
    },
    {
      "cell_type": "code",
      "metadata": {
        "colab": {
          "base_uri": "https://localhost:8080/"
        },
        "id": "6Xs0ipn3WLXw",
        "outputId": "7659a36b-836c-48a1-932b-af42e14602ed"
      },
      "source": [
        "# Lasso con alpha = 1\n",
        "\n",
        "from sklearn.linear_model import Lasso\n",
        "lassoreg3 = Lasso(alpha=1, normalize=True)\n",
        "lassoreg3.fit(X_train, y_train)\n",
        "y_pred = lassoreg3.predict(X_test)\n",
        "\n",
        "print(\"Coeficientes de Lasso con alpha = 1: \", lassoreg3.coef_)\n",
        "print('\\n', \"RMSE: \", np.sqrt(metrics.mean_squared_error(y_test, y_pred)))"
      ],
      "execution_count": null,
      "outputs": [
        {
          "output_type": "stream",
          "name": "stdout",
          "text": [
            "Coeficientes de Lasso con alpha = 1:  [-0. -0.  0. -0. -0.  0. -0. -0.  0.  0.  0. -0.]\n",
            "\n",
            " RMSE:  0.8683174491433667\n"
          ]
        }
      ]
    },
    {
      "cell_type": "markdown",
      "metadata": {
        "id": "-GuBHYOuGGSw"
      },
      "source": [
        "Los coeficientes dados por la regresión de lasso fueron de cero, por otro lado los calculados en las regresiones anteriores dieron resultados distintos a cero.\n",
        "\n",
        "A su vez, los RMSE de lasso han sido los más altos.\n",
        "\n",
        "\n"
      ]
    },
    {
      "cell_type": "markdown",
      "metadata": {
        "id": "vyQOAeSaQwIG"
      },
      "source": [
        "# Ejercicio 5\n",
        "\n",
        "* Estandarizar las características (excepto la calidad del vino)\n",
        "\n",
        "* Crear una variable objetivo binaria para cada tipo de vino\n",
        "\n",
        "* Analizar los coeficientes\n",
        "\n",
        "* * Evalúe con F1, AUC-ROC y log-loss"
      ]
    },
    {
      "cell_type": "code",
      "metadata": {
        "colab": {
          "base_uri": "https://localhost:8080/"
        },
        "id": "Ohi0OVLqdts4",
        "outputId": "0c893e4c-dba5-4f27-d027-3e33b0c15daf"
      },
      "source": [
        "feature_cols = ['fixed acidity', 'volatile acidity', 'citric acid', 'residual sugar', 'chlorides', 'free sulfur dioxide',\n",
        "                 'total sulfur dioxide', 'density', 'pH', 'sulphates', 'alcohol','type2']\n",
        "\n",
        "X = data[feature_cols]\n",
        "y = data.quality2\n",
        "\n",
        "X_train, X_test, y_train, y_test = train_test_split(X, y, test_size=0.2, random_state=456)\n",
        "print(X_train.shape, X_test.shape, y_train.shape, y_test.shape) "
      ],
      "execution_count": null,
      "outputs": [
        {
          "output_type": "stream",
          "name": "stdout",
          "text": [
            "(5197, 12) (1300, 12) (5197,) (1300,)\n"
          ]
        }
      ]
    },
    {
      "cell_type": "code",
      "metadata": {
        "id": "h6mzGei7aVQh"
      },
      "source": [
        "#Estandarizar las variables\n",
        "sc = StandardScaler()\n",
        "X_train2 = sc.fit_transform(X_train)\n",
        "X_test2 = sc.transform(X_test)\n",
        "\n",
        "# Crear variables binarias\n",
        "data['type2'] = data['type'].map({'white':0, 'red':1})\n",
        "data['quality2'] = data.quality.map({3:0, 4:0, 5:0, 6:1, 7:1, 8:1, 9:1})"
      ],
      "execution_count": null,
      "outputs": []
    },
    {
      "cell_type": "code",
      "metadata": {
        "id": "YkkWtGxqQwII",
        "colab": {
          "base_uri": "https://localhost:8080/"
        },
        "outputId": "c894ed2e-e9a6-4825-b034-f55f251f436c"
      },
      "source": [
        "#Regresion logistica:\n",
        "logreg = LogisticRegression(solver='liblinear',C=1e9)\n",
        "logreg.fit(X_train2, y_train)\n",
        "y_pred = logreg.predict(X_test2)\n",
        "\n",
        "print(logreg.coef_)"
      ],
      "execution_count": null,
      "outputs": [
        {
          "output_type": "stream",
          "name": "stdout",
          "text": [
            "[[ 0.12271096 -0.81606621 -0.06079562  0.56870553 -0.04899546  0.29175436\n",
            "  -0.31925948 -0.38614463  0.1286662   0.30265429  1.02791489  0.31196008]]\n"
          ]
        }
      ]
    },
    {
      "cell_type": "code",
      "metadata": {
        "colab": {
          "base_uri": "https://localhost:8080/"
        },
        "id": "Kb_TmiqfetnS",
        "outputId": "c8f00e28-5740-44ff-defe-4ae70d904bff"
      },
      "source": [
        "#F1\n",
        "print('F1 score:', metrics.f1_score(y_test, y_pred))"
      ],
      "execution_count": null,
      "outputs": [
        {
          "output_type": "stream",
          "name": "stdout",
          "text": [
            "F1 score: 0.7777777777777777\n"
          ]
        }
      ]
    },
    {
      "cell_type": "code",
      "metadata": {
        "colab": {
          "base_uri": "https://localhost:8080/"
        },
        "id": "Y6PU6iRMeu4H",
        "outputId": "2fc2c1c3-8314-4302-b4d0-2d196b89fa26"
      },
      "source": [
        "#AUC-ROC\n",
        "print('ROC AUC score:', metrics.roc_auc_score(y_test, y_pred, average=None))"
      ],
      "execution_count": null,
      "outputs": [
        {
          "output_type": "stream",
          "name": "stdout",
          "text": [
            "ROC AUC score: 0.683875\n"
          ]
        }
      ]
    },
    {
      "cell_type": "code",
      "metadata": {
        "colab": {
          "base_uri": "https://localhost:8080/"
        },
        "id": "nO4OaveAexcg",
        "outputId": "9878c069-12ee-4c3a-8103-fdcdf69f4598"
      },
      "source": [
        "#Log-loss\n",
        "print('Log Loss:', metrics.log_loss(y_test, y_pred))"
      ],
      "execution_count": null,
      "outputs": [
        {
          "output_type": "stream",
          "name": "stdout",
          "text": [
            "Log Loss: 9.88354086856439\n"
          ]
        }
      ]
    },
    {
      "cell_type": "markdown",
      "metadata": {
        "id": "amSxrrDYQwIJ"
      },
      "source": [
        "# Ejercicio 6\n",
        "\n",
        "* Estimar una regresión logística regularizada usando:\n",
        "* C = 0.01, 0.1 & 1.0\n",
        "* penalización = ['l1, 'l2']\n",
        "* Compare los coeficientes y la puntuación f1.\n",
        "\n",
        "Nota: Para los valores de C y Penalización, deben realizar todas las posibles combinaciones entre estas dos variables."
      ]
    },
    {
      "cell_type": "markdown",
      "metadata": {
        "id": "j9YZjRBqjBd-"
      },
      "source": [
        "**6.1) Penalización l1**"
      ]
    },
    {
      "cell_type": "code",
      "metadata": {
        "id": "AGnOJ3-vQwIK",
        "colab": {
          "base_uri": "https://localhost:8080/"
        },
        "outputId": "3b43b2ed-66c1-4d72-cbde-c552ec491378"
      },
      "source": [
        "# Regresión logistica regularizada con C = 0.01\n",
        "logreg = LogisticRegression(C=0.01, penalty='l1',solver='liblinear',multi_class='auto')\n",
        "logreg.fit(X_train2, y_train)\n",
        "y_pred_prob = logreg.predict_proba(X_test2)\n",
        "\n",
        "print(logreg.coef_)\n",
        "print(metrics.log_loss(y_test, y_pred_prob))"
      ],
      "execution_count": null,
      "outputs": [
        {
          "output_type": "stream",
          "name": "stdout",
          "text": [
            "[[ 0.00000000e+00 -5.13420274e-01  0.00000000e+00  7.39450739e-02\n",
            "   0.00000000e+00  3.48526937e-05  0.00000000e+00  0.00000000e+00\n",
            "   0.00000000e+00  1.33033691e-01  9.11121219e-01  0.00000000e+00]]\n",
            "0.5569740754320911\n"
          ]
        }
      ]
    },
    {
      "cell_type": "code",
      "metadata": {
        "colab": {
          "base_uri": "https://localhost:8080/"
        },
        "id": "PNYag65fjUCH",
        "outputId": "4d48fd07-095f-4c77-9d55-60cca5123d8a"
      },
      "source": [
        "# Regresión logistica regularizada con C = 0.1\n",
        "logreg = LogisticRegression(C=0.1, penalty='l1',solver='liblinear',multi_class='auto')\n",
        "logreg.fit(X_train2, y_train)\n",
        "y_pred_prob = logreg.predict_proba(X_test2)\n",
        "\n",
        "print(logreg.coef_)\n",
        "print(metrics.log_loss(y_test, y_pred_prob))"
      ],
      "execution_count": null,
      "outputs": [
        {
          "output_type": "stream",
          "name": "stdout",
          "text": [
            "[[ 0.         -0.7824567  -0.04923653  0.32049854 -0.04396018  0.27073353\n",
            "  -0.31027829 -0.02853623  0.05150993  0.26342708  1.14017328  0.16025228]]\n",
            "0.5497026030032377\n"
          ]
        }
      ]
    },
    {
      "cell_type": "code",
      "metadata": {
        "colab": {
          "base_uri": "https://localhost:8080/"
        },
        "id": "13tnxyCzjT0z",
        "outputId": "7b3d8bf7-5849-4dba-af79-5c7bc809d336"
      },
      "source": [
        "# Regresión logistica regularizada con C = 1\n",
        "logreg = LogisticRegression(C=1, penalty='l1',solver='liblinear',multi_class='auto')\n",
        "logreg.fit(X_train2, y_train)\n",
        "y_pred_prob = logreg.predict_proba(X_test2)\n",
        "\n",
        "print(logreg.coef_)\n",
        "print(metrics.log_loss(y_test, y_pred_prob))"
      ],
      "execution_count": null,
      "outputs": [
        {
          "output_type": "stream",
          "name": "stdout",
          "text": [
            "[[ 0.10416063 -0.8131621  -0.058925    0.53746497 -0.04901486  0.28974405\n",
            "  -0.31860711 -0.34065909  0.11777473  0.29820763  1.04279947  0.29586063]]\n",
            "0.5500223467562161\n"
          ]
        }
      ]
    },
    {
      "cell_type": "markdown",
      "metadata": {
        "id": "ax4dlHRCjiW3"
      },
      "source": [
        "**6.2) Penalización l2**"
      ]
    },
    {
      "cell_type": "code",
      "metadata": {
        "colab": {
          "base_uri": "https://localhost:8080/"
        },
        "id": "9ZjuNJHvhjyY",
        "outputId": "91b7c1b6-d581-480f-cb4c-7b351ce62c94"
      },
      "source": [
        "# Regresión logistica regularizada con C = 0.01\n",
        "\n",
        "logreg = LogisticRegression(C=0.01, penalty='l2',multi_class='auto',solver='liblinear')\n",
        "logreg.fit(X_train2, y_train)\n",
        "y_pred_prob = logreg.predict_proba(X_test2)\n",
        "\n",
        "print(logreg.coef_)\n",
        "print(metrics.log_loss(y_test, y_pred_prob))"
      ],
      "execution_count": null,
      "outputs": [
        {
          "output_type": "stream",
          "name": "stdout",
          "text": [
            "[[ 0.05370877 -0.61333693 -0.00984039  0.32820389 -0.08361312  0.22478727\n",
            "  -0.27459385 -0.20399633  0.0873781   0.25543402  0.85594632  0.11346822]]\n",
            "0.5481535312005067\n"
          ]
        }
      ]
    },
    {
      "cell_type": "code",
      "metadata": {
        "colab": {
          "base_uri": "https://localhost:8080/"
        },
        "id": "pUlA-o9bjs0f",
        "outputId": "5f9ff7fa-0b6c-48d6-b8e6-ae212ae62ce8"
      },
      "source": [
        "# Regresión logistica regularizada con C = 0.1\n",
        "\n",
        "logreg = LogisticRegression(C=0.1, penalty='l2',multi_class='auto',solver='liblinear')\n",
        "logreg.fit(X_train2, y_train)\n",
        "y_pred_prob = logreg.predict_proba(X_test2)\n",
        "\n",
        "print(logreg.coef_)\n",
        "print(metrics.log_loss(y_test, y_pred_prob))"
      ],
      "execution_count": null,
      "outputs": [
        {
          "output_type": "stream",
          "name": "stdout",
          "text": [
            "[[ 0.09917984 -0.78618167 -0.0539936   0.5079031  -0.05516917  0.28591875\n",
            "  -0.31992243 -0.31846313  0.11479992  0.29530076  1.01984053  0.2636805 ]]\n",
            "0.549266550529634\n"
          ]
        }
      ]
    },
    {
      "cell_type": "code",
      "metadata": {
        "colab": {
          "base_uri": "https://localhost:8080/"
        },
        "id": "LzalIqFsjstf",
        "outputId": "510c17b7-8f0e-42ba-a9e7-8ad7768c6935"
      },
      "source": [
        "# Regresión logistica regularizada con C = 1\n",
        "\n",
        "logreg = LogisticRegression(C=1, penalty='l2',multi_class='auto',solver='liblinear')\n",
        "logreg.fit(X_train2, y_train)\n",
        "y_pred_prob = logreg.predict_proba(X_test2)\n",
        "\n",
        "print(logreg.coef_)\n",
        "print(metrics.log_loss(y_test, y_pred_prob))"
      ],
      "execution_count": null,
      "outputs": [
        {
          "output_type": "stream",
          "name": "stdout",
          "text": [
            "[[ 0.11947067 -0.81295874 -0.06011489  0.56094334 -0.04969763  0.29128744\n",
            "  -0.31956177 -0.3768716   0.12674639  0.3017911   1.02794819  0.30608384]]\n",
            "0.550017503357314\n"
          ]
        }
      ]
    },
    {
      "cell_type": "markdown",
      "metadata": {
        "id": "4DbuHBn7QwHu"
      },
      "source": [
        "# SVM"
      ]
    },
    {
      "cell_type": "markdown",
      "metadata": {
        "id": "0kggmI76QwHv"
      },
      "source": [
        "# Ejercicio 7\n",
        "\n",
        "Teniendo en cuenta las mismas variables de la regresión logística:\n",
        "\n",
        "* Crear un objetivo binario para cada tipo de vino\n",
        "* Crear dos SVM lineales para los vinos blancos y tintos, respectivamente.\n"
      ]
    },
    {
      "cell_type": "code",
      "metadata": {
        "id": "vhiTOYg7nCfv"
      },
      "source": [
        "#Train and test Data\n",
        "\n",
        "data_ww = data[data['type']=='white']\n",
        "data_rw = data[data['type']!='white']\n",
        "\n",
        "#Definir variables\n",
        "xw = data_ww.drop(columns=['quality','type','quality2','type2'])\n",
        "yw = data_ww.quality\n",
        "\n",
        "xr = data_rw.drop(columns=['quality','type','quality2','type2'])\n",
        "yr = data_rw.quality\n",
        "\n",
        "#Partición de sets\n",
        "X1_train, X1_test, y1_train, y1_test = train_test_split(xw, yw, test_size=0.2, random_state=456)\n",
        "X2_train, X2_test, y2_train, y2_test = train_test_split(xr, yr, test_size=0.2, random_state=456)\n"
      ],
      "execution_count": null,
      "outputs": []
    },
    {
      "cell_type": "code",
      "metadata": {
        "id": "lsL5zSQmQwHz",
        "colab": {
          "base_uri": "https://localhost:8080/"
        },
        "outputId": "76e157b8-d8df-4aeb-9594-49a32c596def"
      },
      "source": [
        "# MODELO VINO BLANCO\n",
        "from sklearn.preprocessing import StandardScaler\n",
        "from sklearn.svm import SVC\n",
        "\n",
        "clf1 = SVC(kernel='linear')\n",
        "clf1.fit(X1_train, y1_train)\n",
        "\n",
        "clf1.score(X1_test,y1_test)"
      ],
      "execution_count": null,
      "outputs": [
        {
          "output_type": "execute_result",
          "data": {
            "text/plain": [
              "0.49795918367346936"
            ]
          },
          "metadata": {},
          "execution_count": 161
        }
      ]
    },
    {
      "cell_type": "code",
      "metadata": {
        "colab": {
          "base_uri": "https://localhost:8080/"
        },
        "id": "8TiI0Soxm9UN",
        "outputId": "7f7e0ace-749c-4a32-a0a6-cde785331cab"
      },
      "source": [
        "# MODELO VINO TINTO \n",
        "\n",
        "clf = SVC(kernel='linear')\n",
        "clf.fit(X2_train, y2_train)\n",
        "\n",
        "clf.score(X2_test, y2_test)"
      ],
      "execution_count": null,
      "outputs": [
        {
          "output_type": "execute_result",
          "data": {
            "text/plain": [
              "0.6125"
            ]
          },
          "metadata": {},
          "execution_count": 162
        }
      ]
    },
    {
      "cell_type": "markdown",
      "metadata": {
        "id": "auNsSHtsQwH1"
      },
      "source": [
        "# Ejercicio 8\n",
        "\n",
        "* Probar las dos SVM utilizando los diferentes kernels ('poly', 'rbf', 'sigmoid')\n",
        "* Evalúe con F1, AUC-ROC y log-loss\n"
      ]
    },
    {
      "cell_type": "code",
      "metadata": {
        "id": "f6adIqmAQwH4",
        "colab": {
          "base_uri": "https://localhost:8080/"
        },
        "outputId": "1a20a952-f369-418b-c9e0-dfccfaa1feb8"
      },
      "source": [
        "#Modelo 1: Vino Blanco\n",
        "\n",
        "wclf_poly = SVC(kernel='poly')\n",
        "wclf_poly.fit(X1_train, y1_train)\n",
        "\n",
        "wclf_rbf = SVC(kernel='rbf')\n",
        "wclf_rbf.fit(X1_train, y1_train)\n",
        "\n",
        "wclf_sigmoid = SVC(kernel='sigmoid')\n",
        "wclf_sigmoid.fit(X1_train, y1_train)\n",
        "\n",
        "print('Kernel Poly: ', wclf_poly.score(X1_test, y1_test))\n",
        "print('Kernel rbf: ', wclf_rbf.score(X1_test, y1_test))\n",
        "print('Kernel sigmoid: ', wclf_sigmoid.score(X1_test, y1_test))"
      ],
      "execution_count": null,
      "outputs": [
        {
          "output_type": "stream",
          "name": "stdout",
          "text": [
            "Kernel Poly:  0.45714285714285713\n",
            "Kernel rbf:  0.4561224489795918\n",
            "Kernel sigmoid:  0.4336734693877551\n"
          ]
        }
      ]
    },
    {
      "cell_type": "code",
      "metadata": {
        "colab": {
          "base_uri": "https://localhost:8080/"
        },
        "id": "QvT6IY_lrS-C",
        "outputId": "6e517a93-49a7-4441-a0a5-01cc90e52bbd"
      },
      "source": [
        "#Modelo 2: Vino Tinto\n",
        "\n",
        "rclf_poly = SVC(kernel='poly')\n",
        "rclf_poly.fit(X2_train, y2_train)\n",
        "\n",
        "rclf_rbf = SVC(kernel='rbf')\n",
        "rclf_rbf.fit(X2_train, y2_train)\n",
        "\n",
        "rclf_sigmoid = SVC(kernel='sigmoid')\n",
        "rclf_sigmoid.fit(X2_train, y2_train)\n",
        "\n",
        "print('Kernel Poly: ', rclf_poly.score(X2_test, y2_test))\n",
        "print('Kernel rbf: ', rclf_rbf.score(X2_test, y2_test))\n",
        "print('Kernel sigmoid: ', rclf_sigmoid.score(X2_test, y2_test))"
      ],
      "execution_count": null,
      "outputs": [
        {
          "output_type": "stream",
          "name": "stdout",
          "text": [
            "Kernel Poly:  0.4625\n",
            "Kernel rbf:  0.509375\n",
            "Kernel sigmoid:  0.475\n"
          ]
        }
      ]
    },
    {
      "cell_type": "markdown",
      "metadata": {
        "id": "DHBmMhtYQwH6"
      },
      "source": [
        "# Ejercicio 9\n",
        "* Utilizando el mejor SVM encontrar los parámetros que da el mejor rendimiento teniendo en cuenta los siguientes hiperparámetros\n",
        "'C': [0.1, 1, 10, 100, 1000], 'gamma': [0.01, 0.001, 0.0001]\n",
        "* Evalúe cada modelo con F1, AUC-ROC y log-loss\n",
        "\n",
        "Nota: Para los valores de C y gamma, deben realizar todas las posibles combinaciones entre estas dos variables."
      ]
    },
    {
      "cell_type": "code",
      "metadata": {
        "colab": {
          "base_uri": "https://localhost:8080/"
        },
        "id": "rV12713iwm9X",
        "outputId": "2f6157f1-12fb-4cf2-90f0-270f4e6ba205"
      },
      "source": [
        "#Para el modelo 1: Vino Blanco\n",
        "\n",
        "#svc_clf = svm.SVC()\n",
        "# Grilla de validación\n",
        "#parameters = {'gamma': np.linspace(0.01, 0.001, 0.0001), 'C': np.linspace(0.1, 1, 10, 100, 1000)}\n",
        "#acc_scorer = make_scorer(roc_auc_score)\n",
        "\n",
        "# Run and fit the grid search\n",
        "#grid_obj = GridSearchCV(svc_clf, parameters, scoring=acc_scorer)\n",
        "#grid_obj = grid_obj.fit(X_train, y_train)\n",
        "\n",
        "parameters_w = [{'C': [0.1,1, 10, 100, 1000], 'kernel': ['rbf'], 'gamma': [0.01, 0.001, 0.0001]}]\n",
        "\n",
        "gs_w = GridSearchCV(estimator = rclf_rbf, param_grid = parameters_w,\n",
        "                           scoring = 'accuracy', cv = 10,)\n",
        "\n",
        "gs_w.fit(X1_train, y1_train)\n",
        "best_parameters_w = gs_w.best_params_\n",
        "\n",
        "#best_accuracy_w = gs_w.best_score_\n",
        "#best_accuracy_w\n",
        "\n",
        "#mejores parametros\n",
        "print(best_parameters_w)"
      ],
      "execution_count": null,
      "outputs": [
        {
          "output_type": "stream",
          "name": "stderr",
          "text": [
            "/usr/local/lib/python3.7/dist-packages/sklearn/model_selection/_split.py:667: UserWarning: The least populated class in y has only 3 members, which is less than n_splits=10.\n",
            "  % (min_groups, self.n_splits)), UserWarning)\n"
          ]
        },
        {
          "output_type": "stream",
          "name": "stdout",
          "text": [
            "{'C': 1000, 'gamma': 0.01, 'kernel': 'rbf'}\n"
          ]
        }
      ]
    },
    {
      "cell_type": "code",
      "metadata": {
        "id": "3d6wqybPQwH8",
        "colab": {
          "base_uri": "https://localhost:8080/"
        },
        "outputId": "75d2bb4e-3ea3-41f5-a9d2-64b857f58367"
      },
      "source": [
        "#Para el modelo 2: Vino Tinto\n",
        "\n",
        "parameters_r = [{'C': [0.1,1, 10, 100, 1000], 'kernel': ['rbf'], 'gamma': [0.01, 0.001, 0.0001]}]\n",
        "\n",
        "gs_r = GridSearchCV(estimator = rclf_rbf, param_grid = parameters_r, scoring = 'accuracy', cv = 10,)\n",
        "\n",
        "gs_r.fit(X2_train, y2_train)\n",
        "best_parameters_r = gs_r.best_params_\n",
        "\n",
        "#best_accuracy_r = gs_r.best_score_\n",
        "#best_accuracy_r\n",
        "\n",
        "#Mejores parametros:\n",
        "best_parameters_r"
      ],
      "execution_count": null,
      "outputs": [
        {
          "output_type": "execute_result",
          "data": {
            "text/plain": [
              "{'C': 1000, 'gamma': 0.001, 'kernel': 'rbf'}"
            ]
          },
          "metadata": {},
          "execution_count": 178
        }
      ]
    },
    {
      "cell_type": "markdown",
      "metadata": {
        "id": "XjgVQ_WTQwH9"
      },
      "source": [
        "# Ejercicio 10\n",
        "\n",
        "Compare los resultados con todos los anteriores modelos y eliga ¿Cuál algoritmo con cuáles hiperparámetros es el que tiene mejor rendimiento según la puntuación F1, AUC-ROC y log-loss?"
      ]
    },
    {
      "cell_type": "markdown",
      "metadata": {
        "id": "mtQYF30fVPnF"
      },
      "source": [
        "De los mejores modelos quedó: Regresión logistica regularizada con C = 0.01, el con un log-loss de: 0.5481"
      ]
    }
  ]
}