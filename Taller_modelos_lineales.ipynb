{
  "nbformat": 4,
  "nbformat_minor": 0,
  "metadata": {
    "kernelspec": {
      "display_name": "Python 3",
      "language": "python",
      "name": "python3"
    },
    "language_info": {
      "codemirror_mode": {
        "name": "ipython",
        "version": 3
      },
      "file_extension": ".py",
      "mimetype": "text/x-python",
      "name": "python",
      "nbconvert_exporter": "python",
      "pygments_lexer": "ipython3",
      "version": "3.6.7"
    },
    "colab": {
      "name": "Taller_modelos_lineales.ipynb",
      "provenance": [],
      "collapsed_sections": [
        "7MfWJaSUrQmo",
        "oHu8-0bSrQm4",
        "dHBpky16lKCt",
        "1lDYrtbArQm7",
        "tqH5f5bbrQm-",
        "6ZotgUpZrQm_",
        "Lfvf_pqSkbzI"
      ]
    }
  },
  "cells": [
    {
      "cell_type": "markdown",
      "metadata": {
        "id": "7MfWJaSUrQmo"
      },
      "source": [
        "# Taller modelos lineales\n",
        "\n",
        "\n",
        "# Parte 1 - Regresión lineal\n",
        "\n",
        "Estimar una regresión con los datos de ingresos\n",
        "\n",
        "\n",
        "## Previsión de ingresos\n",
        "\n",
        "Vamos a trabajar con un conjunto de datos del censo de EE.UU. indome ([diccionario de datos](https://archive.ics.uci.edu/ml/datasets/Adult))\n",
        "\n",
        "A muchas empresas les gustaría personalizar su oferta en función de los ingresos del cliente. Los clientes con ingresos elevados podrían, por ejemplo, estar expuestos a productos premium. Como los ingresos de un cliente no siempre se conocen explícitamente, el modelo predictivo podría estimar los ingresos de una persona basándose en otra información.\n",
        "\n",
        "Nuestro objetivo es crear un modelo predictivo que sea capaz de dar una estimación de los ingresos de una persona.\n"
      ]
    },
    {
      "cell_type": "code",
      "metadata": {
        "colab": {
          "base_uri": "https://localhost:8080/",
          "height": 306
        },
        "id": "eK62OxWerQmx",
        "outputId": "2f32882a-3f38-448c-e263-164d2ac8d6b1"
      },
      "source": [
        "import pandas as pd\n",
        "import numpy as np\n",
        "\n",
        "%matplotlib inline\n",
        "import matplotlib.pyplot as plt\n",
        "\n",
        "# read the data and set the datetime as the index\n",
        "income = pd.read_csv('https://github.com/albahnsen/PracticalMachineLearningClass/raw/master/datasets/income.csv.zip', index_col=0)\n",
        "\n",
        "income.head()"
      ],
      "execution_count": 1,
      "outputs": [
        {
          "output_type": "execute_result",
          "data": {
            "text/html": [
              "<div>\n",
              "<style scoped>\n",
              "    .dataframe tbody tr th:only-of-type {\n",
              "        vertical-align: middle;\n",
              "    }\n",
              "\n",
              "    .dataframe tbody tr th {\n",
              "        vertical-align: top;\n",
              "    }\n",
              "\n",
              "    .dataframe thead th {\n",
              "        text-align: right;\n",
              "    }\n",
              "</style>\n",
              "<table border=\"1\" class=\"dataframe\">\n",
              "  <thead>\n",
              "    <tr style=\"text-align: right;\">\n",
              "      <th></th>\n",
              "      <th>Age</th>\n",
              "      <th>Workclass</th>\n",
              "      <th>fnlwgt</th>\n",
              "      <th>Education</th>\n",
              "      <th>Education-Num</th>\n",
              "      <th>Martial Status</th>\n",
              "      <th>Occupation</th>\n",
              "      <th>Relationship</th>\n",
              "      <th>Race</th>\n",
              "      <th>Sex</th>\n",
              "      <th>Capital Gain</th>\n",
              "      <th>Capital Loss</th>\n",
              "      <th>Hours per week</th>\n",
              "      <th>Country</th>\n",
              "      <th>Income</th>\n",
              "    </tr>\n",
              "  </thead>\n",
              "  <tbody>\n",
              "    <tr>\n",
              "      <th>0</th>\n",
              "      <td>39</td>\n",
              "      <td>State-gov</td>\n",
              "      <td>77516</td>\n",
              "      <td>Bachelors</td>\n",
              "      <td>13</td>\n",
              "      <td>Never-married</td>\n",
              "      <td>Adm-clerical</td>\n",
              "      <td>Not-in-family</td>\n",
              "      <td>White</td>\n",
              "      <td>Male</td>\n",
              "      <td>2174</td>\n",
              "      <td>0</td>\n",
              "      <td>40</td>\n",
              "      <td>United-States</td>\n",
              "      <td>51806.0</td>\n",
              "    </tr>\n",
              "    <tr>\n",
              "      <th>1</th>\n",
              "      <td>50</td>\n",
              "      <td>Self-emp-not-inc</td>\n",
              "      <td>83311</td>\n",
              "      <td>Bachelors</td>\n",
              "      <td>13</td>\n",
              "      <td>Married-civ-spouse</td>\n",
              "      <td>Exec-managerial</td>\n",
              "      <td>Husband</td>\n",
              "      <td>White</td>\n",
              "      <td>Male</td>\n",
              "      <td>0</td>\n",
              "      <td>0</td>\n",
              "      <td>13</td>\n",
              "      <td>United-States</td>\n",
              "      <td>68719.0</td>\n",
              "    </tr>\n",
              "    <tr>\n",
              "      <th>2</th>\n",
              "      <td>38</td>\n",
              "      <td>Private</td>\n",
              "      <td>215646</td>\n",
              "      <td>HS-grad</td>\n",
              "      <td>9</td>\n",
              "      <td>Divorced</td>\n",
              "      <td>Handlers-cleaners</td>\n",
              "      <td>Not-in-family</td>\n",
              "      <td>White</td>\n",
              "      <td>Male</td>\n",
              "      <td>0</td>\n",
              "      <td>0</td>\n",
              "      <td>40</td>\n",
              "      <td>United-States</td>\n",
              "      <td>51255.0</td>\n",
              "    </tr>\n",
              "    <tr>\n",
              "      <th>3</th>\n",
              "      <td>53</td>\n",
              "      <td>Private</td>\n",
              "      <td>234721</td>\n",
              "      <td>11th</td>\n",
              "      <td>7</td>\n",
              "      <td>Married-civ-spouse</td>\n",
              "      <td>Handlers-cleaners</td>\n",
              "      <td>Husband</td>\n",
              "      <td>Black</td>\n",
              "      <td>Male</td>\n",
              "      <td>0</td>\n",
              "      <td>0</td>\n",
              "      <td>40</td>\n",
              "      <td>United-States</td>\n",
              "      <td>47398.0</td>\n",
              "    </tr>\n",
              "    <tr>\n",
              "      <th>4</th>\n",
              "      <td>28</td>\n",
              "      <td>Private</td>\n",
              "      <td>338409</td>\n",
              "      <td>Bachelors</td>\n",
              "      <td>13</td>\n",
              "      <td>Married-civ-spouse</td>\n",
              "      <td>Prof-specialty</td>\n",
              "      <td>Wife</td>\n",
              "      <td>Black</td>\n",
              "      <td>Female</td>\n",
              "      <td>0</td>\n",
              "      <td>0</td>\n",
              "      <td>40</td>\n",
              "      <td>Cuba</td>\n",
              "      <td>30493.0</td>\n",
              "    </tr>\n",
              "  </tbody>\n",
              "</table>\n",
              "</div>"
            ],
            "text/plain": [
              "   Age         Workclass  fnlwgt  ... Hours per week        Country   Income\n",
              "0   39         State-gov   77516  ...             40  United-States  51806.0\n",
              "1   50  Self-emp-not-inc   83311  ...             13  United-States  68719.0\n",
              "2   38           Private  215646  ...             40  United-States  51255.0\n",
              "3   53           Private  234721  ...             40  United-States  47398.0\n",
              "4   28           Private  338409  ...             40           Cuba  30493.0\n",
              "\n",
              "[5 rows x 15 columns]"
            ]
          },
          "metadata": {},
          "execution_count": 1
        }
      ]
    },
    {
      "cell_type": "code",
      "metadata": {
        "colab": {
          "base_uri": "https://localhost:8080/"
        },
        "id": "ZvEW_YjhrQm2",
        "outputId": "17519756-2dec-44a2-e8b7-a539a75fc35c"
      },
      "source": [
        "income.shape"
      ],
      "execution_count": 2,
      "outputs": [
        {
          "output_type": "execute_result",
          "data": {
            "text/plain": [
              "(32561, 15)"
            ]
          },
          "metadata": {},
          "execution_count": 2
        }
      ]
    },
    {
      "cell_type": "markdown",
      "metadata": {
        "id": "oHu8-0bSrQm4"
      },
      "source": [
        "# Ejercicio 4.1 \n",
        "\n",
        "¿Cuál es la relación entre la edad y la renta?\n",
        "\n"
      ]
    },
    {
      "cell_type": "code",
      "metadata": {
        "id": "1jJabJiPrQm4",
        "colab": {
          "base_uri": "https://localhost:8080/"
        },
        "outputId": "1c11d122-c622-4e6d-c8ad-83de3ccdd602"
      },
      "source": [
        "income.plot(x='Age', y='Income', kind='scatter')"
      ],
      "execution_count": null,
      "outputs": [
        {
          "output_type": "execute_result",
          "data": {
            "text/plain": [
              "<matplotlib.axes._subplots.AxesSubplot at 0x7f5a3fa0a090>"
            ]
          },
          "metadata": {},
          "execution_count": 6
        },
        {
          "output_type": "display_data",
          "data": {
            "image/png": "[encoded data removed]",
            "text/plain": [
              "<Figure size 432x288 with 1 Axes>"
            ]
          },
          "metadata": {
            "needs_background": "light"
          }
        }
      ]
    },
    {
      "cell_type": "code",
      "metadata": {
        "collapsed": true,
        "id": "z5AwpHQ8rQm5",
        "colab": {
          "base_uri": "https://localhost:8080/"
        },
        "outputId": "4770304a-7141-47eb-a4f5-5a62baef497e"
      },
      "source": [
        "#A partir del grafico de dispersion se puede observar que la edad y el ingreso no tienen una relacion lineal clara,\n",
        "# esto debido a que los datos presentan una alta dispersion y por tal motivo si se realiza un modelo de regresion lineal con estas\n",
        "# variables el error del modelo sera muy alto y la prediccion se va a alejar de la correcta.\n",
        "\n",
        "np.corrcoef(income[\"Age\"], income[\"Income\"]) #Evidencia que tienen una relacion positiva, sin embargo no es una relacion fuerte."
      ],
      "execution_count": 4,
      "outputs": [
        {
          "output_type": "execute_result",
          "data": {
            "text/plain": [
              "array([[1.       , 0.2904083],\n",
              "       [0.2904083, 1.       ]])"
            ]
          },
          "metadata": {},
          "execution_count": 4
        }
      ]
    },
    {
      "cell_type": "markdown",
      "metadata": {
        "id": "dHBpky16lKCt"
      },
      "source": [
        "# Ejercicio 4.2\n",
        "Para un aumento del uno por ciento en la edad, ¿cuánto aumenta la renta?\n",
        "Utilizando sklearn estime una regresión lineal y prediga los ingresos cuando la Edad es de 30 y 40 años."
      ]
    },
    {
      "cell_type": "code",
      "metadata": {
        "id": "JzmoihDk2QRY"
      },
      "source": [
        "X = income['Age'].values\n",
        "Y = income['Income'].values\n",
        "\n",
        "#Normalizar los datos\n",
        "y_mean, y_std = Y.mean(), Y.std()\n",
        "X_mean, X_std = X.mean(), X.std()\n",
        "\n",
        "Y = (Y - y_mean)/ y_std\n",
        "X = (X - X_mean)/ X_std\n",
        "\n",
        "# Crar la matriz de X\n",
        "MX = np.c_[np.ones(X.shape[0]), X]"
      ],
      "execution_count": 14,
      "outputs": []
    },
    {
      "cell_type": "code",
      "metadata": {
        "colab": {
          "base_uri": "https://localhost:8080/"
        },
        "id": "L0YOgBA-2eoY",
        "outputId": "b503222a-7472-4a81-dd48-99400bda1c8f"
      },
      "source": [
        "from sklearn.linear_model import LinearRegression\n",
        "modelo = LinearRegression(fit_intercept=False)\n",
        "modelo.fit(MX, Y)\n",
        "modelo.coef_"
      ],
      "execution_count": 15,
      "outputs": [
        {
          "output_type": "execute_result",
          "data": {
            "text/plain": [
              "array([8.39066006e-17, 2.90408298e-01])"
            ]
          },
          "metadata": {},
          "execution_count": 15
        }
      ]
    },
    {
      "cell_type": "code",
      "metadata": {
        "id": "yUUxKXY_2x1z"
      },
      "source": [
        "from sklearn.linear_model import SGDRegressor\n",
        "from sklearn.linear_model import LinearRegression\n",
        "\n",
        "x1 = np.array([30])\n",
        "x2 = np.array([40])\n",
        "\n",
        "clf1 = LinearRegression()\n",
        "clf1.fit(income[['Age']], income['Income'])\n",
        "p1 = clf1.predict(x1.reshape(1, -1))                  #El aumento de un 1% de la edad aumenta en 33080 la renta\n",
        "p2 = clf1.predict(x2.reshape(1, -1))"
      ],
      "execution_count": 16,
      "outputs": []
    },
    {
      "cell_type": "code",
      "metadata": {
        "colab": {
          "base_uri": "https://localhost:8080/"
        },
        "id": "mrovVrMh7hDB",
        "outputId": "1dbf6d6f-f0e3-431c-ab0d-7dc30dac744c"
      },
      "source": [
        "print(p1) #Preddiccion para la edad = 30\n",
        "print(p2) #Preddiccion para la edad = 40"
      ],
      "execution_count": 17,
      "outputs": [
        {
          "output_type": "stream",
          "name": "stdout",
          "text": [
            "[48803.11784304]\n",
            "[54224.79441376]\n"
          ]
        }
      ]
    },
    {
      "cell_type": "markdown",
      "metadata": {
        "id": "1lDYrtbArQm7"
      },
      "source": [
        "\n",
        "# Ejercicio 4.3\n",
        "\n",
        "Ejecute un modelo de regresión utilizando como características la Edad y la Edad$^2$ utilizando las ecuaciones OLS. Prediga de nuevo los ingresos cuando la Edad es de 30 y 40 años, y compare con el modelo anterior."
      ]
    },
    {
      "cell_type": "code",
      "metadata": {
        "collapsed": true,
        "id": "9oiQN-TArQm9"
      },
      "source": [
        "income['Age2'] = income['Age'] ** 2\n",
        "\n",
        "Y = income['Income'].values\n",
        "X = income[['Age', 'Age2']].values\n",
        "\n",
        "y_mean, y_std = Y.mean(), Y.std()\n",
        "X_mean, X_std = X.mean(), X.std()\n",
        "\n",
        "Y = (Y - y_mean)/ y_std\n",
        "X = (X - X_mean)/ X_std"
      ],
      "execution_count": 37,
      "outputs": []
    },
    {
      "cell_type": "code",
      "metadata": {
        "colab": {
          "base_uri": "https://localhost:8080/"
        },
        "id": "3BVliL5j8eph",
        "outputId": "939c61d1-6c4c-405a-929b-d003d8d2cf15"
      },
      "source": [
        "from sklearn.preprocessing import StandardScaler\n",
        "ss = StandardScaler(with_mean=True, with_std=True) \n",
        "ss.fit(X.astype(np.float))\n",
        "X = ss.transform(X.astype(np.float))\n",
        "print(ss.mean_, ss.scale_)\n",
        "\n",
        "X_ = np.c_[np.ones(X.shape[0]), X] #Matriz de x\n",
        "modelo = LinearRegression(fit_intercept=False)\n",
        "modelo.fit(X_,Y)\n",
        "print(modelo.coef_)\n"
      ],
      "execution_count": 38,
      "outputs": [
        {
          "output_type": "stream",
          "name": "stdout",
          "text": [
            "[-0.70033391  0.70033391] [0.01167801 1.00941986]\n",
            "[ 8.39066006e-17  1.67751068e+00 -1.41415206e+00]\n"
          ]
        }
      ]
    },
    {
      "cell_type": "code",
      "metadata": {
        "colab": {
          "base_uri": "https://localhost:8080/"
        },
        "id": "VfBhkzk7vNMf",
        "outputId": "070eb819-4621-4321-f08c-45bdc18f5c2d"
      },
      "source": [
        "#Solucion para edad = 30\n",
        "\n",
        "x = np.array([30, 30**2])\n",
        "\n",
        "x_scaled = ss.transform(x.reshape(1, -1))\n",
        "x_ = np.c_[1, x_scaled]\n",
        "print(x_)\n",
        "\n",
        "y_pred1 = 8.39066006e-17 + (1.67751068e+00)*(2.62890215e+03) + (1.41415206e+002)*(8.90907443e+02)\n",
        "print(\"El valor de la prediccion es \", y_pred1)"
      ],
      "execution_count": 47,
      "outputs": [
        {
          "output_type": "stream",
          "name": "stdout",
          "text": [
            "[[1.00000000e+00 2.62890215e+03 8.90907443e+02]]\n",
            "El valor de la prediccion es  130397.87101207822\n"
          ]
        }
      ]
    },
    {
      "cell_type": "code",
      "metadata": {
        "colab": {
          "base_uri": "https://localhost:8080/"
        },
        "id": "Lo6uA7nzyE0L",
        "outputId": "b7f133ce-2926-4707-92f7-cd5de8174203"
      },
      "source": [
        "#Solucion para edad = 30\n",
        "\n",
        "x = np.array([40, 40**2])\n",
        "\n",
        "x_scaled = ss.transform(x.reshape(1, -1))\n",
        "x_ = np.c_[1, x_scaled]\n",
        "print(x_)\n",
        "\n",
        "y_pred2 = 8.39066006e-17 + (1.67751068e+00)*(3.48521275e+03) + (1.41415206e+002)*(1.58437507e+03)\n",
        "print(\"El valor de la prediccion es \", y_pred2)"
      ],
      "execution_count": 49,
      "outputs": [
        {
          "output_type": "stream",
          "name": "stdout",
          "text": [
            "[[1.00000000e+00 3.48521275e+03 1.58437507e+03]]\n",
            "El valor de la prediccion es  229901.20851551162\n"
          ]
        }
      ]
    },
    {
      "cell_type": "markdown",
      "metadata": {
        "id": "tqH5f5bbrQm-"
      },
      "source": [
        "# Ejercicio 4.4\n",
        "Estime una regresión utilizando más características, diga cuáles y por qué las usó. Prediga de nuevo los ingresos cuando la Edad es de 30 y 40 años, y compare con el modelo anterior.\n"
      ]
    },
    {
      "cell_type": "code",
      "metadata": {
        "id": "5UKeVXgG3YkE"
      },
      "source": [
        "#Segun la teoria las variables que mejor explican los niveles de ingreso de una persona, son la educacion, la edad, genero, pais entre otros\n",
        "#Para el siguiente modelo se van a trabajar las variables numericas de la base de datos"
      ],
      "execution_count": 80,
      "outputs": []
    },
    {
      "cell_type": "code",
      "metadata": {
        "colab": {
          "base_uri": "https://localhost:8080/"
        },
        "id": "UyzCCg8Fy325",
        "outputId": "0fbba34d-8b78-4b52-8d5e-aae09b38516a"
      },
      "source": [
        "income.columns.values"
      ],
      "execution_count": 57,
      "outputs": [
        {
          "output_type": "execute_result",
          "data": {
            "text/plain": [
              "array(['Age', 'Workclass', 'fnlwgt', 'Education', 'Education-Num',\n",
              "       'Martial Status', 'Occupation', 'Relationship', 'Race', 'Sex',\n",
              "       'Capital Gain', 'Capital Loss', 'Hours per week', 'Country',\n",
              "       'Income', 'Age2'], dtype=object)"
            ]
          },
          "metadata": {},
          "execution_count": 57
        }
      ]
    },
    {
      "cell_type": "code",
      "metadata": {
        "collapsed": true,
        "id": "lHhA4XnprQm_"
      },
      "source": [
        "Y = income['Income'].values\n",
        "X1 = income['Age'].values\n",
        "X2 = income['Sex'].values\n",
        "X3 = income['Education-Num'].values\n",
        "X4 = income['Hours per week'].values\n",
        "X5 = income['fnlwgt'].values\n",
        "\n",
        "X = income[['Education', 'Sex','Country','Hours per week','Race']].values"
      ],
      "execution_count": 72,
      "outputs": []
    },
    {
      "cell_type": "code",
      "metadata": {
        "id": "YSZztYz50ngJ"
      },
      "source": [
        "import pandas as pd                    ## Este proporciona una estructura similiar a los data.frame\n",
        "import statsmodels.api as sm           ## Este proporciona funciones para la estimación de muchos modelos estadísticos\n",
        "import statsmodels.formula.api as sm"
      ],
      "execution_count": 73,
      "outputs": []
    },
    {
      "cell_type": "code",
      "metadata": {
        "colab": {
          "base_uri": "https://localhost:8080/"
        },
        "id": "NY39PFIh0v21",
        "outputId": "2214fb9a-cda0-4642-e35f-a27a5bdf5230"
      },
      "source": [
        "import numpy as np\n",
        "import statsmodels.api as sm\n",
        "import statsmodels.formula.api as smf\n",
        "\n",
        "modelo = smf.ols('Y ~ X1 + X2 + X3 + X4 + X5', data= income).fit() \n",
        "print(modelo.summary())"
      ],
      "execution_count": 74,
      "outputs": [
        {
          "output_type": "stream",
          "name": "stdout",
          "text": [
            "                            OLS Regression Results                            \n",
            "==============================================================================\n",
            "Dep. Variable:                      Y   R-squared:                       0.441\n",
            "Model:                            OLS   Adj. R-squared:                  0.441\n",
            "Method:                 Least Squares   F-statistic:                     5129.\n",
            "Date:                Thu, 07 Oct 2021   Prob (F-statistic):               0.00\n",
            "Time:                        22:23:34   Log-Likelihood:            -3.6708e+05\n",
            "No. Observations:               32561   AIC:                         7.342e+05\n",
            "Df Residuals:                   32555   BIC:                         7.342e+05\n",
            "Df Model:                           5                                         \n",
            "Covariance Type:            nonrobust                                         \n",
            "==============================================================================\n",
            "                 coef    std err          t      P>|t|      [0.025      0.975]\n",
            "------------------------------------------------------------------------------\n",
            "Intercept  -2.787e+04    626.197    -44.508      0.000   -2.91e+04   -2.66e+04\n",
            "X2[T.Male]  2.063e+04    231.379     89.174      0.000    2.02e+04    2.11e+04\n",
            "X1           437.8967      7.806     56.101      0.000     422.597     453.196\n",
            "X3          3960.0659     41.545     95.319      0.000    3878.635    4041.497\n",
            "X4           250.3415      8.893     28.151      0.000     232.911     267.772\n",
            "X5             0.0031      0.001      3.045      0.002       0.001       0.005\n",
            "==============================================================================\n",
            "Omnibus:                     3377.472   Durbin-Watson:                   2.006\n",
            "Prob(Omnibus):                  0.000   Jarque-Bera (JB):             4519.324\n",
            "Skew:                           0.895   Prob(JB):                         0.00\n",
            "Kurtosis:                       3.359   Cond. No.                     1.29e+06\n",
            "==============================================================================\n",
            "\n",
            "Warnings:\n",
            "[1] Standard Errors assume that the covariance matrix of the errors is correctly specified.\n",
            "[2] The condition number is large, 1.29e+06. This might indicate that there are\n",
            "strong multicollinearity or other numerical problems.\n"
          ]
        }
      ]
    },
    {
      "cell_type": "code",
      "metadata": {
        "colab": {
          "base_uri": "https://localhost:8080/"
        },
        "id": "TDjVA-792UVQ",
        "outputId": "a861c443-f2bc-461c-aa94-12df1eb9e208"
      },
      "source": [
        "modelo.params #Parametros del modelo"
      ],
      "execution_count": 71,
      "outputs": [
        {
          "output_type": "execute_result",
          "data": {
            "text/plain": [
              "Intercept    -27870.629074\n",
              "X2[T.Male]    20633.063500\n",
              "X1              437.896666\n",
              "X3             3960.065939\n",
              "X4              250.341453\n",
              "X5                0.003059\n",
              "dtype: float64"
            ]
          },
          "metadata": {},
          "execution_count": 71
        }
      ]
    },
    {
      "cell_type": "code",
      "metadata": {
        "colab": {
          "base_uri": "https://localhost:8080/"
        },
        "id": "jEZHPpbX2Yon",
        "outputId": "ac34507b-1e4f-4982-c963-d2fbb19c0c06"
      },
      "source": [
        "#Prediccion para edad = 30 y 40 manteniendo todo lo demas constante\n",
        "\n",
        "y_est1 = -27870.629074 + 437.896666*30 + 20633.063500 +3960.065939 + 250.341453 + 0.003059\n",
        "y_est2 = -27870.629074 + 437.896666*40 + 20633.063500 + 3960.065939 + 250.341453 + 0.003059\n",
        "\n",
        "print(y_est1)\n",
        "print(y_est2)"
      ],
      "execution_count": 82,
      "outputs": [
        {
          "output_type": "stream",
          "name": "stdout",
          "text": [
            "10109.744857\n",
            "14488.711517000002\n"
          ]
        }
      ]
    },
    {
      "cell_type": "markdown",
      "metadata": {
        "id": "6ZotgUpZrQm_"
      },
      "source": [
        "#Parte 2: Regresión Logística\n",
        "\n",
        "### Customer Churn: \n",
        "La pérdida/abandono de los clientes de la empresa. Especialmente, las industrias que la adquisición de usuarios es costosa, es de crucial importancia para una empresa para reducir e idealmente hacer que la rotación de clientes a 0 para mantener sus ingresos recurrentes. Si se considera que la retención de clientes es siempre más barata que la adquisición de clientes y generalmente depende de los datos del usuario (uso del servicio o producto), plantea un gran/excitante/difícil problema para el aprendizaje automático.\n",
        "\n",
        "### Datos\n",
        "El conjunto de datos procede de un proveedor de servicios de telecomunicaciones en el que se recoge el uso del servicio (plan internacional, plan de buzón de voz, uso diurno, uso nocturno, etc.) y la información demográfica básica (estado y código de área) del usuario. En el caso de las etiquetas, tengo un único punto de datos que indica si el cliente ha sido dado de baja o no.\n"
      ]
    },
    {
      "cell_type": "code",
      "metadata": {
        "id": "TgPh9vh-rQnA"
      },
      "source": [
        "# Download the dataset\n",
        "data = pd.read_csv('https://github.com/ghuiber/churn/raw/master/data/churn.csv')"
      ],
      "execution_count": 83,
      "outputs": []
    },
    {
      "cell_type": "code",
      "metadata": {
        "id": "_upTQFR_rQnA",
        "colab": {
          "base_uri": "https://localhost:8080/",
          "height": 306
        },
        "outputId": "530a9e56-2cb3-43ba-90d1-9085d31e99f2"
      },
      "source": [
        "data.head()"
      ],
      "execution_count": 84,
      "outputs": [
        {
          "output_type": "execute_result",
          "data": {
            "text/html": [
              "<div>\n",
              "<style scoped>\n",
              "    .dataframe tbody tr th:only-of-type {\n",
              "        vertical-align: middle;\n",
              "    }\n",
              "\n",
              "    .dataframe tbody tr th {\n",
              "        vertical-align: top;\n",
              "    }\n",
              "\n",
              "    .dataframe thead th {\n",
              "        text-align: right;\n",
              "    }\n",
              "</style>\n",
              "<table border=\"1\" class=\"dataframe\">\n",
              "  <thead>\n",
              "    <tr style=\"text-align: right;\">\n",
              "      <th></th>\n",
              "      <th>State</th>\n",
              "      <th>Account Length</th>\n",
              "      <th>Area Code</th>\n",
              "      <th>Phone</th>\n",
              "      <th>Int'l Plan</th>\n",
              "      <th>VMail Plan</th>\n",
              "      <th>VMail Message</th>\n",
              "      <th>Day Mins</th>\n",
              "      <th>Day Calls</th>\n",
              "      <th>Day Charge</th>\n",
              "      <th>Eve Mins</th>\n",
              "      <th>Eve Calls</th>\n",
              "      <th>Eve Charge</th>\n",
              "      <th>Night Mins</th>\n",
              "      <th>Night Calls</th>\n",
              "      <th>Night Charge</th>\n",
              "      <th>Intl Mins</th>\n",
              "      <th>Intl Calls</th>\n",
              "      <th>Intl Charge</th>\n",
              "      <th>CustServ Calls</th>\n",
              "      <th>Churn?</th>\n",
              "    </tr>\n",
              "  </thead>\n",
              "  <tbody>\n",
              "    <tr>\n",
              "      <th>0</th>\n",
              "      <td>KS</td>\n",
              "      <td>128</td>\n",
              "      <td>415</td>\n",
              "      <td>382-4657</td>\n",
              "      <td>no</td>\n",
              "      <td>yes</td>\n",
              "      <td>25</td>\n",
              "      <td>265.1</td>\n",
              "      <td>110</td>\n",
              "      <td>45.07</td>\n",
              "      <td>197.4</td>\n",
              "      <td>99</td>\n",
              "      <td>16.78</td>\n",
              "      <td>244.7</td>\n",
              "      <td>91</td>\n",
              "      <td>11.01</td>\n",
              "      <td>10.0</td>\n",
              "      <td>3</td>\n",
              "      <td>2.70</td>\n",
              "      <td>1</td>\n",
              "      <td>False.</td>\n",
              "    </tr>\n",
              "    <tr>\n",
              "      <th>1</th>\n",
              "      <td>OH</td>\n",
              "      <td>107</td>\n",
              "      <td>415</td>\n",
              "      <td>371-7191</td>\n",
              "      <td>no</td>\n",
              "      <td>yes</td>\n",
              "      <td>26</td>\n",
              "      <td>161.6</td>\n",
              "      <td>123</td>\n",
              "      <td>27.47</td>\n",
              "      <td>195.5</td>\n",
              "      <td>103</td>\n",
              "      <td>16.62</td>\n",
              "      <td>254.4</td>\n",
              "      <td>103</td>\n",
              "      <td>11.45</td>\n",
              "      <td>13.7</td>\n",
              "      <td>3</td>\n",
              "      <td>3.70</td>\n",
              "      <td>1</td>\n",
              "      <td>False.</td>\n",
              "    </tr>\n",
              "    <tr>\n",
              "      <th>2</th>\n",
              "      <td>NJ</td>\n",
              "      <td>137</td>\n",
              "      <td>415</td>\n",
              "      <td>358-1921</td>\n",
              "      <td>no</td>\n",
              "      <td>no</td>\n",
              "      <td>0</td>\n",
              "      <td>243.4</td>\n",
              "      <td>114</td>\n",
              "      <td>41.38</td>\n",
              "      <td>121.2</td>\n",
              "      <td>110</td>\n",
              "      <td>10.30</td>\n",
              "      <td>162.6</td>\n",
              "      <td>104</td>\n",
              "      <td>7.32</td>\n",
              "      <td>12.2</td>\n",
              "      <td>5</td>\n",
              "      <td>3.29</td>\n",
              "      <td>0</td>\n",
              "      <td>False.</td>\n",
              "    </tr>\n",
              "    <tr>\n",
              "      <th>3</th>\n",
              "      <td>OH</td>\n",
              "      <td>84</td>\n",
              "      <td>408</td>\n",
              "      <td>375-9999</td>\n",
              "      <td>yes</td>\n",
              "      <td>no</td>\n",
              "      <td>0</td>\n",
              "      <td>299.4</td>\n",
              "      <td>71</td>\n",
              "      <td>50.90</td>\n",
              "      <td>61.9</td>\n",
              "      <td>88</td>\n",
              "      <td>5.26</td>\n",
              "      <td>196.9</td>\n",
              "      <td>89</td>\n",
              "      <td>8.86</td>\n",
              "      <td>6.6</td>\n",
              "      <td>7</td>\n",
              "      <td>1.78</td>\n",
              "      <td>2</td>\n",
              "      <td>False.</td>\n",
              "    </tr>\n",
              "    <tr>\n",
              "      <th>4</th>\n",
              "      <td>OK</td>\n",
              "      <td>75</td>\n",
              "      <td>415</td>\n",
              "      <td>330-6626</td>\n",
              "      <td>yes</td>\n",
              "      <td>no</td>\n",
              "      <td>0</td>\n",
              "      <td>166.7</td>\n",
              "      <td>113</td>\n",
              "      <td>28.34</td>\n",
              "      <td>148.3</td>\n",
              "      <td>122</td>\n",
              "      <td>12.61</td>\n",
              "      <td>186.9</td>\n",
              "      <td>121</td>\n",
              "      <td>8.41</td>\n",
              "      <td>10.1</td>\n",
              "      <td>3</td>\n",
              "      <td>2.73</td>\n",
              "      <td>3</td>\n",
              "      <td>False.</td>\n",
              "    </tr>\n",
              "  </tbody>\n",
              "</table>\n",
              "</div>"
            ],
            "text/plain": [
              "  State  Account Length  Area Code  ... Intl Charge CustServ Calls  Churn?\n",
              "0    KS             128        415  ...        2.70              1  False.\n",
              "1    OH             107        415  ...        3.70              1  False.\n",
              "2    NJ             137        415  ...        3.29              0  False.\n",
              "3    OH              84        408  ...        1.78              2  False.\n",
              "4    OK              75        415  ...        2.73              3  False.\n",
              "\n",
              "[5 rows x 21 columns]"
            ]
          },
          "metadata": {},
          "execution_count": 84
        }
      ]
    },
    {
      "cell_type": "code",
      "metadata": {
        "colab": {
          "base_uri": "https://localhost:8080/"
        },
        "id": "5VEUwCy29nJr",
        "outputId": "bea02811-a610-4829-fba0-6fe15084e27c"
      },
      "source": [
        "data['Churn?'].value_counts()"
      ],
      "execution_count": 85,
      "outputs": [
        {
          "output_type": "execute_result",
          "data": {
            "text/plain": [
              "False.    2850\n",
              "True.      483\n",
              "Name: Churn?, dtype: int64"
            ]
          },
          "metadata": {},
          "execution_count": 85
        }
      ]
    },
    {
      "cell_type": "markdown",
      "metadata": {
        "id": "ka0sMeFdrQnB"
      },
      "source": [
        "# Ejercicio 4.5\n",
        "\n",
        "¿Cuál es la distribución de los churners? Haga la transformación correspondiente para predecir Churn.\n",
        "\n"
      ]
    },
    {
      "cell_type": "code",
      "metadata": {
        "id": "lQ5q2JiBrQnC"
      },
      "source": [
        "#Transformacion: Se añadio una columna en la cual los valores de False.= 0 y True. =  1\n",
        "data['Churn'] = data['Churn?'].map({\"False.\":0, \"True.\":1})   "
      ],
      "execution_count": 86,
      "outputs": []
    },
    {
      "cell_type": "code",
      "metadata": {
        "colab": {
          "base_uri": "https://localhost:8080/"
        },
        "id": "U9RTq7H3--bD",
        "outputId": "554ff374-0388-4bf5-8fea-439fc2c2e78b"
      },
      "source": [
        "data['Churn'].value_counts()"
      ],
      "execution_count": 87,
      "outputs": [
        {
          "output_type": "execute_result",
          "data": {
            "text/plain": [
              "0    2850\n",
              "1     483\n",
              "Name: Churn, dtype: int64"
            ]
          },
          "metadata": {},
          "execution_count": 87
        }
      ]
    },
    {
      "cell_type": "code",
      "metadata": {
        "id": "9lmt2SQkp0c5"
      },
      "source": [
        "#Es una distribucion bernoulli ya que solo existen dos posibles resultados que son 1 y 0\n",
        "# p y 1-p "
      ],
      "execution_count": null,
      "outputs": []
    },
    {
      "cell_type": "markdown",
      "metadata": {
        "id": "gnKKbfKZrQnD"
      },
      "source": [
        "# Ejercicio 4.6\n",
        "Entrene una Regresión Logística creando Y y X con la información en IntlCharge.\n"
      ]
    },
    {
      "cell_type": "code",
      "metadata": {
        "id": "A82nFRUSrQnE",
        "colab": {
          "base_uri": "https://localhost:8080/",
          "height": 296
        },
        "outputId": "35c3d7ba-043b-418a-828c-9abebebacf79"
      },
      "source": [
        "X = data['Intl Charge']\n",
        "Y = data['Churn']\n",
        "\n",
        "from sklearn.linear_model import LinearRegression\n",
        "linreg = LinearRegression()\n",
        "feature_cols = ['Intl Charge']                             # definir las caracteristicas es decir las x's\n",
        "X = data[feature_cols]                           # Data set 1 variables independientes\n",
        "Y = data.Churn\n",
        "linreg.fit(X, Y) \n",
        "data['Churn_pred'] = linreg.predict(X)\n",
        "\n",
        "plt.scatter(data['Intl Charge'] , data.Churn)\n",
        "plt.plot(data['Intl Charge'] , data.Churn_pred, color='red')\n",
        "plt.xlabel('Intl Charge')\n",
        "plt.ylabel('Churn')"
      ],
      "execution_count": 88,
      "outputs": [
        {
          "output_type": "execute_result",
          "data": {
            "text/plain": [
              "Text(0, 0.5, 'Churn')"
            ]
          },
          "metadata": {},
          "execution_count": 88
        },
        {
          "output_type": "display_data",
          "data": {
            "image/png": "[encoded data removed]",
            "text/plain": [
              "<Figure size 432x288 with 1 Axes>"
            ]
          },
          "metadata": {
            "needs_background": "light"
          }
        }
      ]
    },
    {
      "cell_type": "code",
      "metadata": {
        "colab": {
          "base_uri": "https://localhost:8080/"
        },
        "id": "tZnkvQl2u1AB",
        "outputId": "3e280ec7-ee21-4e39-9356-94014080a3ea"
      },
      "source": [
        "data['Churn_pred'].describe()"
      ],
      "execution_count": 89,
      "outputs": [
        {
          "output_type": "execute_result",
          "data": {
            "text/plain": [
              "count    3333.000000\n",
              "mean        0.144914\n",
              "std         0.024032\n",
              "min         0.056775\n",
              "25%         0.130103\n",
              "50%         0.145406\n",
              "75%         0.161028\n",
              "max         0.228936\n",
              "Name: Churn_pred, dtype: float64"
            ]
          },
          "metadata": {},
          "execution_count": 89
        }
      ]
    },
    {
      "cell_type": "code",
      "metadata": {
        "colab": {
          "base_uri": "https://localhost:8080/",
          "height": 296
        },
        "id": "wylULTn-ajL1",
        "outputId": "0fec86c1-3f7d-46a7-d54f-0982b78448c4"
      },
      "source": [
        "data['Churn_pred_class'] = np.where(data.Churn_pred >= 0.5, 1, 0) \n",
        "\n",
        "plt.scatter(data['Intl Charge'], data['Churn'])\n",
        "plt.plot(data['Intl Charge'], data.Churn_pred_class, color='red')\n",
        "plt.xlabel('Intl Charge')\n",
        "plt.ylabel('Churn')"
      ],
      "execution_count": 91,
      "outputs": [
        {
          "output_type": "execute_result",
          "data": {
            "text/plain": [
              "Text(0, 0.5, 'Churn')"
            ]
          },
          "metadata": {},
          "execution_count": 91
        },
        {
          "output_type": "display_data",
          "data": {
            "image/png": "[encoded data removed]",
            "text/plain": [
              "<Figure size 432x288 with 1 Axes>"
            ]
          },
          "metadata": {
            "needs_background": "light"
          }
        }
      ]
    },
    {
      "cell_type": "code",
      "metadata": {
        "id": "34IrpiYewVet"
      },
      "source": [
        "from sklearn.linear_model import LogisticRegression\n",
        "logreg = LogisticRegression(solver='liblinear',C=1e9)\n",
        "feature_cols = ['Intl Charge']         #al como variable independiente\n",
        "X = data[feature_cols]\n",
        "Y = data.Churn          #Variable dependiente\n",
        "logreg.fit(X, Y)            #Ajustar la regresion\n",
        "data['Churn_pred_class'] = logreg.predict(X)"
      ],
      "execution_count": 95,
      "outputs": []
    },
    {
      "cell_type": "code",
      "metadata": {
        "id": "5BPXw8_85gmJ"
      },
      "source": [
        "data['Churn_pred_prob'] = logreg.predict_proba(X)[:, 1]"
      ],
      "execution_count": 96,
      "outputs": []
    },
    {
      "cell_type": "code",
      "metadata": {
        "id": "GTaF2VVKwUaD",
        "colab": {
          "base_uri": "https://localhost:8080/",
          "height": 296
        },
        "outputId": "4df8fb6d-e802-48c3-a074-59682aebb3bf"
      },
      "source": [
        "plt.scatter(data['Churn_pred_class'] , data.Churn)\n",
        "plt.plot(data['Churn_pred_class'] , data.Churn_pred_prob, color='red')\n",
        "plt.xlabel('Intl Charge')\n",
        "plt.ylabel('Churn')"
      ],
      "execution_count": 97,
      "outputs": [
        {
          "output_type": "execute_result",
          "data": {
            "text/plain": [
              "Text(0, 0.5, 'Churn')"
            ]
          },
          "metadata": {},
          "execution_count": 97
        },
        {
          "output_type": "display_data",
          "data": {
            "image/png": "[encoded data removed]",
            "text/plain": [
              "<Figure size 432x288 with 1 Axes>"
            ]
          },
          "metadata": {
            "needs_background": "light"
          }
        }
      ]
    },
    {
      "cell_type": "code",
      "metadata": {
        "colab": {
          "base_uri": "https://localhost:8080/"
        },
        "id": "Vcg-6dq84w4B",
        "outputId": "a36afcab-dabb-4d4f-81ff-fce32eabd232"
      },
      "source": [
        "print(logreg.predict_proba([[1]]))\n",
        "print(logreg.predict_proba([[2]]))\n",
        "print(logreg.predict_proba([[3]]))"
      ],
      "execution_count": 99,
      "outputs": [
        {
          "output_type": "stream",
          "name": "stdout",
          "text": [
            "[[0.90480943 0.09519057]]\n",
            "[[0.8796801 0.1203199]]\n",
            "[[0.84902381 0.15097619]]\n"
          ]
        }
      ]
    },
    {
      "cell_type": "markdown",
      "metadata": {
        "id": "ErUjHQE5rQnE"
      },
      "source": [
        "# Ejercicio 4.7\n",
        "\n",
        "¿Cuáles son los coeficientes de la regresión logística? Interpretelos para un valor de IntlCharge = 1.\n",
        "\n",
        "\n"
      ]
    },
    {
      "cell_type": "code",
      "metadata": {
        "id": "wEJX2nF4rQnE",
        "colab": {
          "base_uri": "https://localhost:8080/"
        },
        "outputId": "a8f9d76a-3bfe-4688-b69e-31f10e9690a5"
      },
      "source": [
        "print(logreg.predict_proba([[1]]))"
      ],
      "execution_count": 100,
      "outputs": [
        {
          "output_type": "stream",
          "name": "stdout",
          "text": [
            "[[0.90480943 0.09519057]]\n"
          ]
        }
      ]
    },
    {
      "cell_type": "code",
      "metadata": {
        "colab": {
          "base_uri": "https://localhost:8080/"
        },
        "id": "oKkUCiEZ6S7I",
        "outputId": "80497109-9da7-4bfc-d90f-f6e6f63a3370"
      },
      "source": [
        "logreg.coef_"
      ],
      "execution_count": 101,
      "outputs": [
        {
          "output_type": "execute_result",
          "data": {
            "text/plain": [
              "array([[0.2624392]])"
            ]
          },
          "metadata": {},
          "execution_count": 101
        }
      ]
    },
    {
      "cell_type": "markdown",
      "metadata": {
        "id": "Lfvf_pqSkbzI"
      },
      "source": [
        "# Ejercicio 4.8\n",
        "\n",
        "Seleccione 3 variables independientes para entrenar una regresión logística. Interprete cada uno de los valores de los coeficientes en función de la variable churn.\n"
      ]
    },
    {
      "cell_type": "code",
      "metadata": {
        "id": "QUslBeW1lABj",
        "colab": {
          "base_uri": "https://localhost:8080/"
        },
        "outputId": "cc80ab39-c730-45b9-adc7-b01cfe6b5079"
      },
      "source": [
        "data.columns.values"
      ],
      "execution_count": 103,
      "outputs": [
        {
          "output_type": "execute_result",
          "data": {
            "text/plain": [
              "array(['State', 'Account Length', 'Area Code', 'Phone', \"Int'l Plan\",\n",
              "       'VMail Plan', 'VMail Message', 'Day Mins', 'Day Calls',\n",
              "       'Day Charge', 'Eve Mins', 'Eve Calls', 'Eve Charge', 'Night Mins',\n",
              "       'Night Calls', 'Night Charge', 'Intl Mins', 'Intl Calls',\n",
              "       'Intl Charge', 'CustServ Calls', 'Churn?', 'Churn', 'Churn_pred',\n",
              "       'Churn_pred_class', 'Churn_pred_prob'], dtype=object)"
            ]
          },
          "metadata": {},
          "execution_count": 103
        }
      ]
    },
    {
      "cell_type": "code",
      "metadata": {
        "id": "pAf_TNrU6wVP"
      },
      "source": [
        "#Tomaria las llamadas tanto dia, tarde y noche: 'Day Calls', Eve Calls', 'Night Calls'\n"
      ],
      "execution_count": 111,
      "outputs": []
    },
    {
      "cell_type": "code",
      "metadata": {
        "colab": {
          "base_uri": "https://localhost:8080/",
          "height": 296
        },
        "id": "uVHIhRvT7wlB",
        "outputId": "c11e3c6a-146a-4f89-f15e-733aa16cb8ea"
      },
      "source": [
        "X = data['Day Calls']\n",
        "Y = data['Churn']\n",
        "\n",
        "from sklearn.linear_model import LinearRegression\n",
        "linreg = LinearRegression()\n",
        "feature_cols = ['Day Calls']                             # definir las caracteristicas es decir las x's\n",
        "X = data[feature_cols]                           # Data set 1 variables independientes\n",
        "Y = data.Churn\n",
        "linreg.fit(X, Y) \n",
        "data['Churn_pred'] = linreg.predict(X)\n",
        "\n",
        "plt.scatter(data['Day Calls'] , data.Churn)\n",
        "plt.plot(data['Day Calls'] , data.Churn_pred, color='red')\n",
        "plt.xlabel('Day Calls')\n",
        "plt.ylabel('Churn')\n"
      ],
      "execution_count": 106,
      "outputs": [
        {
          "output_type": "execute_result",
          "data": {
            "text/plain": [
              "Text(0, 0.5, 'Churn')"
            ]
          },
          "metadata": {},
          "execution_count": 106
        },
        {
          "output_type": "display_data",
          "data": {
            "image/png": "[encoded data removed]",
            "text/plain": [
              "<Figure size 432x288 with 1 Axes>"
            ]
          },
          "metadata": {
            "needs_background": "light"
          }
        }
      ]
    },
    {
      "cell_type": "code",
      "metadata": {
        "colab": {
          "base_uri": "https://localhost:8080/",
          "height": 296
        },
        "id": "h2HrxArC8RU_",
        "outputId": "0590a156-644c-447a-aa90-d8e08e69d9f6"
      },
      "source": [
        "data['Churn_pred_class'] = np.where(data.Churn_pred >= 0.5, 1, 0) \n",
        "\n",
        "plt.scatter(data['Day Calls'], data['Churn'])\n",
        "plt.plot(data['Day Calls'], data.Churn_pred_class, color='red')\n",
        "plt.xlabel('Day Calls')\n",
        "plt.ylabel('Churn')"
      ],
      "execution_count": 107,
      "outputs": [
        {
          "output_type": "execute_result",
          "data": {
            "text/plain": [
              "Text(0, 0.5, 'Churn')"
            ]
          },
          "metadata": {},
          "execution_count": 107
        },
        {
          "output_type": "display_data",
          "data": {
            "image/png": "[encoded data removed]",
            "text/plain": [
              "<Figure size 432x288 with 1 Axes>"
            ]
          },
          "metadata": {
            "needs_background": "light"
          }
        }
      ]
    },
    {
      "cell_type": "code",
      "metadata": {
        "id": "NgYzUWZT8WE5"
      },
      "source": [
        "from sklearn.linear_model import LogisticRegression\n",
        "logreg = LogisticRegression(solver='liblinear',C=1e9)\n",
        "feature_cols = ['Day Calls']         #al como variable independiente\n",
        "X = data[feature_cols]\n",
        "Y = data.Churn          #Variable dependiente\n",
        "logreg.fit(X, Y)            #Ajustar la regresion\n",
        "data['Churn_pred_class'] = logreg.predict(X)\n",
        "\n",
        "\n",
        "data['Churn_pred_prob'] = logreg.predict_proba(X)[:, 1]"
      ],
      "execution_count": 109,
      "outputs": []
    },
    {
      "cell_type": "code",
      "metadata": {
        "colab": {
          "base_uri": "https://localhost:8080/"
        },
        "id": "zRKeQbGi8iqS",
        "outputId": "2d1593a1-98eb-4c90-bb6e-8eba0f1a116e"
      },
      "source": [
        "logreg.coef_ #COEFICIENTE 1"
      ],
      "execution_count": 110,
      "outputs": [
        {
          "output_type": "execute_result",
          "data": {
            "text/plain": [
              "array([[0.00236655]])"
            ]
          },
          "metadata": {},
          "execution_count": 110
        }
      ]
    },
    {
      "cell_type": "code",
      "metadata": {
        "colab": {
          "base_uri": "https://localhost:8080/",
          "height": 279
        },
        "id": "YmyjTlR58tTA",
        "outputId": "cde4e6a6-994a-4b8c-b2e0-150ad1d97fa5"
      },
      "source": [
        "X = data['Eve Calls']\n",
        "Y = data['Churn']\n",
        "\n",
        "from sklearn.linear_model import LinearRegression\n",
        "linreg = LinearRegression()\n",
        "feature_cols = ['Eve Calls']                             # definir las caracteristicas es decir las x's\n",
        "X = data[feature_cols]                           # Data set 1 variables independientes\n",
        "Y = data.Churn\n",
        "linreg.fit(X, Y) \n",
        "data['Churn_pred'] = linreg.predict(X)\n",
        "\n",
        "data['Churn_pred_class'] = np.where(data.Churn_pred >= 0.5, 1, 0) \n",
        "\n",
        "plt.scatter(data['Eve Calls'], data['Churn'])\n",
        "plt.plot(data['Eve Calls'], data.Churn_pred_class, color='red')\n",
        "plt.xlabel('Eve Calls')\n",
        "plt.ylabel('Churn')\n",
        "\n",
        "from sklearn.linear_model import LogisticRegression\n",
        "logreg = LogisticRegression(solver='liblinear',C=1e9)\n",
        "feature_cols = ['Eve Calls']         #al como variable independiente\n",
        "X = data[feature_cols]\n",
        "Y = data.Churn          #Variable dependiente\n",
        "logreg.fit(X, Y)            #Ajustar la regresion\n",
        "data['Churn_pred_class'] = logreg.predict(X)\n",
        "\n",
        "data['Churn_pred_prob'] = logreg.predict_proba(X)[:, 1]"
      ],
      "execution_count": 113,
      "outputs": [
        {
          "output_type": "display_data",
          "data": {
            "image/png": "[encoded data removed]",
            "text/plain": [
              "<Figure size 432x288 with 1 Axes>"
            ]
          },
          "metadata": {
            "needs_background": "light"
          }
        }
      ]
    },
    {
      "cell_type": "code",
      "metadata": {
        "colab": {
          "base_uri": "https://localhost:8080/"
        },
        "id": "OWvPtbCA9FiN",
        "outputId": "cc34c2d7-0aae-403c-c4ac-7bea5d8a9eec"
      },
      "source": [
        "logreg.coef_ #COEFICIENTE 2"
      ],
      "execution_count": 114,
      "outputs": [
        {
          "output_type": "execute_result",
          "data": {
            "text/plain": [
              "array([[0.00116127]])"
            ]
          },
          "metadata": {},
          "execution_count": 114
        }
      ]
    },
    {
      "cell_type": "code",
      "metadata": {
        "colab": {
          "base_uri": "https://localhost:8080/",
          "height": 279
        },
        "id": "xL9j535H9JfJ",
        "outputId": "4116b8b1-7ac9-489c-a0f0-73158e4296b0"
      },
      "source": [
        "X = data['Night Calls']\n",
        "Y = data['Churn']\n",
        "\n",
        "from sklearn.linear_model import LinearRegression\n",
        "linreg = LinearRegression()\n",
        "feature_cols = ['Night Calls']                             # definir las caracteristicas es decir las x's\n",
        "X = data[feature_cols]                           # Data set 1 variables independientes\n",
        "Y = data.Churn\n",
        "linreg.fit(X, Y) \n",
        "data['Churn_pred'] = linreg.predict(X)\n",
        "\n",
        "data['Churn_pred_class'] = np.where(data.Churn_pred >= 0.5, 1, 0) \n",
        "\n",
        "plt.scatter(data['Night Calls'], data['Churn'])\n",
        "plt.plot(data['Night Calls'], data.Churn_pred_class, color='red')\n",
        "plt.xlabel('Night Calls')\n",
        "plt.ylabel('Churn')\n",
        "\n",
        "from sklearn.linear_model import LogisticRegression\n",
        "logreg = LogisticRegression(solver='liblinear',C=1e9)\n",
        "feature_cols = ['Night Calls']         #al como variable independiente\n",
        "X = data[feature_cols]\n",
        "Y = data.Churn          #Variable dependiente\n",
        "logreg.fit(X, Y)            #Ajustar la regresion\n",
        "data['Churn_pred_class'] = logreg.predict(X)\n",
        "\n",
        "data['Churn_pred_prob'] = logreg.predict_proba(X)[:, 1]"
      ],
      "execution_count": 115,
      "outputs": [
        {
          "output_type": "display_data",
          "data": {
            "image/png": "[encoded data removed]",
            "text/plain": [
              "<Figure size 432x288 with 1 Axes>"
            ]
          },
          "metadata": {
            "needs_background": "light"
          }
        }
      ]
    },
    {
      "cell_type": "code",
      "metadata": {
        "id": "iIZvrvHK9RIL",
        "outputId": "b5d81fc2-3ce3-4494-dffc-e2b961215441",
        "colab": {
          "base_uri": "https://localhost:8080/"
        }
      },
      "source": [
        "logreg.coef_ #COEFICIENTE 3"
      ],
      "execution_count": 116,
      "outputs": [
        {
          "output_type": "execute_result",
          "data": {
            "text/plain": [
              "array([[0.00078058]])"
            ]
          },
          "metadata": {},
          "execution_count": 116
        }
      ]
    }
  ]
}