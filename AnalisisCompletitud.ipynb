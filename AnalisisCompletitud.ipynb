{
  "nbformat": 4,
  "nbformat_minor": 0,
  "metadata": {
    "colab": {
      "name": "AnalisisCompletitud.ipynb",
      "provenance": []
    },
    "kernelspec": {
      "name": "python3",
      "display_name": "Python 3"
    },
    "language_info": {
      "name": "python"
    }
  },
  "cells": [
    {
      "cell_type": "markdown",
      "metadata": {
        "id": "R4s7Q1x1dNDZ"
      },
      "source": [
        "**Ejercicio:** Realizar análisis de completitud para el dataset de procesos."
      ]
    },
    {
      "cell_type": "code",
      "metadata": {
        "id": "mpmj5PYEdn3G"
      },
      "source": [
        "import pandas as pd\n",
        "import numpy as np\n",
        "pd.set_option('display.max_columns', None) #Mostrar todas las columnas"
      ],
      "execution_count": 19,
      "outputs": []
    },
    {
      "cell_type": "code",
      "metadata": {
        "colab": {
          "base_uri": "https://localhost:8080/",
          "height": 428
        },
        "id": "Nsb3t_JBdRKt",
        "outputId": "2bf72814-53bd-4c95-9414-b9bcd05cf2bc"
      },
      "source": [
        "df_procesos = pd.read_csv('PROCESOS_SSPD_DESDE_2018.csv', \n",
        "                 sep = ',',\n",
        "                 thousands=',', decimal='.',\n",
        "                 skip_blank_lines=True,\n",
        "                 low_memory = False)\n",
        "df_procesos.head()"
      ],
      "execution_count": 35,
      "outputs": [
        {
          "output_type": "execute_result",
          "data": {
            "text/html": [
              "<div>\n",
              "<style scoped>\n",
              "    .dataframe tbody tr th:only-of-type {\n",
              "        vertical-align: middle;\n",
              "    }\n",
              "\n",
              "    .dataframe tbody tr th {\n",
              "        vertical-align: top;\n",
              "    }\n",
              "\n",
              "    .dataframe thead th {\n",
              "        text-align: right;\n",
              "    }\n",
              "</style>\n",
              "<table border=\"1\" class=\"dataframe\">\n",
              "  <thead>\n",
              "    <tr style=\"text-align: right;\">\n",
              "      <th></th>\n",
              "      <th>Modalidad de Contratacion</th>\n",
              "      <th>Fecha de Publicacion del Proceso</th>\n",
              "      <th>Referencia del Proceso</th>\n",
              "      <th>Nombre del Procedimiento</th>\n",
              "      <th>Descripción del Procedimiento</th>\n",
              "      <th>Precio Base</th>\n",
              "      <th>Nombre de la Unidad de Contratación</th>\n",
              "      <th>URLProceso</th>\n",
              "    </tr>\n",
              "  </thead>\n",
              "  <tbody>\n",
              "    <tr>\n",
              "      <th>0</th>\n",
              "      <td>Contratación directa</td>\n",
              "      <td>08/01/2021</td>\n",
              "      <td>05202521</td>\n",
              "      <td>Prestar servicios profesionales en la generaci...</td>\n",
              "      <td>Prestar servicios profesionales en la generaci...</td>\n",
              "      <td>70493192</td>\n",
              "      <td>DIRECCION ADMINISTRATIVA</td>\n",
              "      <td>https://community.secop.gov.co/Public/Tenderin...</td>\n",
              "    </tr>\n",
              "    <tr>\n",
              "      <th>1</th>\n",
              "      <td>Contratación directa</td>\n",
              "      <td>20/01/2020</td>\n",
              "      <td>40000520</td>\n",
              "      <td>Prestar sus servicios profesionales a la Super...</td>\n",
              "      <td>Prestar sus servicios profesionales a la Super...</td>\n",
              "      <td>171000000</td>\n",
              "      <td>DIRECCION ADMINISTRATIVA</td>\n",
              "      <td>https://community.secop.gov.co/Public/Tenderin...</td>\n",
              "    </tr>\n",
              "    <tr>\n",
              "      <th>2</th>\n",
              "      <td>Contratación directa</td>\n",
              "      <td>16/01/2020</td>\n",
              "      <td>81003020</td>\n",
              "      <td>Prestar los servicios profesionales juridicos ...</td>\n",
              "      <td>Prestar los servicios profesionales jurídicos ...</td>\n",
              "      <td>39562300</td>\n",
              "      <td>DIRECCCION TERRITORIAL CENTRO</td>\n",
              "      <td>https://community.secop.gov.co/Public/Tenderin...</td>\n",
              "    </tr>\n",
              "    <tr>\n",
              "      <th>3</th>\n",
              "      <td>Contratación directa</td>\n",
              "      <td>18/01/2019</td>\n",
              "      <td>80000519</td>\n",
              "      <td>Prestar los servicios profesionales en la orga...</td>\n",
              "      <td>Prestar los servicios profesionales en la orga...</td>\n",
              "      <td>91738644</td>\n",
              "      <td>DIRECCION ADMINISTRATIVA</td>\n",
              "      <td>https://community.secop.gov.co/Public/Tenderin...</td>\n",
              "    </tr>\n",
              "    <tr>\n",
              "      <th>4</th>\n",
              "      <td>Contratación directa</td>\n",
              "      <td>17/01/2020</td>\n",
              "      <td>82004920</td>\n",
              "      <td>DTN 016 DE 2020</td>\n",
              "      <td>Prestar servicios profesionales jurídicos para...</td>\n",
              "      <td>45999995</td>\n",
              "      <td>DIRECCION TERRITORIAL NORTE</td>\n",
              "      <td>https://community.secop.gov.co/Public/Tenderin...</td>\n",
              "    </tr>\n",
              "  </tbody>\n",
              "</table>\n",
              "</div>"
            ],
            "text/plain": [
              "  Modalidad de Contratacion Fecha de Publicacion del Proceso  \\\n",
              "0      Contratación directa                       08/01/2021   \n",
              "1      Contratación directa                       20/01/2020   \n",
              "2      Contratación directa                       16/01/2020   \n",
              "3      Contratación directa                       18/01/2019   \n",
              "4      Contratación directa                       17/01/2020   \n",
              "\n",
              "  Referencia del Proceso                           Nombre del Procedimiento  \\\n",
              "0               05202521  Prestar servicios profesionales en la generaci...   \n",
              "1               40000520  Prestar sus servicios profesionales a la Super...   \n",
              "2               81003020  Prestar los servicios profesionales juridicos ...   \n",
              "3               80000519  Prestar los servicios profesionales en la orga...   \n",
              "4               82004920                                    DTN 016 DE 2020   \n",
              "\n",
              "                       Descripción del Procedimiento  Precio Base  \\\n",
              "0  Prestar servicios profesionales en la generaci...     70493192   \n",
              "1  Prestar sus servicios profesionales a la Super...    171000000   \n",
              "2  Prestar los servicios profesionales jurídicos ...     39562300   \n",
              "3  Prestar los servicios profesionales en la orga...     91738644   \n",
              "4  Prestar servicios profesionales jurídicos para...     45999995   \n",
              "\n",
              "  Nombre de la Unidad de Contratación  \\\n",
              "0            DIRECCION ADMINISTRATIVA   \n",
              "1            DIRECCION ADMINISTRATIVA   \n",
              "2       DIRECCCION TERRITORIAL CENTRO   \n",
              "3            DIRECCION ADMINISTRATIVA   \n",
              "4         DIRECCION TERRITORIAL NORTE   \n",
              "\n",
              "                                          URLProceso  \n",
              "0  https://community.secop.gov.co/Public/Tenderin...  \n",
              "1  https://community.secop.gov.co/Public/Tenderin...  \n",
              "2  https://community.secop.gov.co/Public/Tenderin...  \n",
              "3  https://community.secop.gov.co/Public/Tenderin...  \n",
              "4  https://community.secop.gov.co/Public/Tenderin...  "
            ]
          },
          "metadata": {},
          "execution_count": 35
        }
      ]
    },
    {
      "cell_type": "markdown",
      "metadata": {
        "id": "Z97l-ZzudTx8"
      },
      "source": [
        "**1.** ¿Cuál es el porcentaje de datos perdidos?"
      ]
    },
    {
      "cell_type": "code",
      "metadata": {
        "colab": {
          "base_uri": "https://localhost:8080/"
        },
        "id": "LI093AApf9Xc",
        "outputId": "d381ab5e-66dc-48be-f829-eb61ee9cc6fd"
      },
      "source": [
        "for col in df_procesos.columns:\n",
        "    num_missing = df_procesos[col].isnull().sum()\n",
        "\n",
        "    if num_missing > 0: #Para solo observar las columnas con datos vacios\n",
        "      pct_missing = np.mean(df_procesos[col].isnull())\n",
        "      print('{} - {}% - {}'.format(col,round(pct_missing*100, 2),num_missing))"
      ],
      "execution_count": 27,
      "outputs": [
        {
          "output_type": "stream",
          "name": "stdout",
          "text": [
            "Descripción del Procedimiento - 0.43% - 12\n"
          ]
        }
      ]
    },
    {
      "cell_type": "markdown",
      "metadata": {
        "id": "d_MF1E5_gWt1"
      },
      "source": [
        "**2.** ¿Qué hacer con los datos perdidos: Borrar, imputar, asumir categoría de perdido o simplemente dejarlo así?¿Por qué?"
      ]
    },
    {
      "cell_type": "code",
      "metadata": {
        "colab": {
          "base_uri": "https://localhost:8080/"
        },
        "id": "oIFipUzQhbJ-",
        "outputId": "54bd5dfc-bf69-4b7d-b4cd-3880cda0739f"
      },
      "source": [
        "#Primero observar que tipo de valores cuenta la columna con datos perdidos\n",
        "df_procesos.dtypes"
      ],
      "execution_count": 44,
      "outputs": [
        {
          "output_type": "execute_result",
          "data": {
            "text/plain": [
              "Modalidad de Contratacion              object\n",
              "Fecha de Publicacion del Proceso       object\n",
              "Referencia del Proceso                 object\n",
              "Nombre del Procedimiento               object\n",
              "Descripción del Procedimiento          object\n",
              "Precio Base                             int64\n",
              "Nombre de la Unidad de Contratación    object\n",
              "URLProceso                             object\n",
              "dtype: object"
            ]
          },
          "metadata": {},
          "execution_count": 44
        }
      ]
    },
    {
      "cell_type": "markdown",
      "metadata": {
        "id": "RFsXsk7hi8y_"
      },
      "source": [
        "**Solución:** Se puede observar que la columna de \"Descripcion del Procedimiento\", ha tomado los mismos valores de la columna \"Nombre del Procedimiento\", para estos 12 datos perdidos como solución se podria Imputar/tomar el valor de la columna \"Nombre del Procedimiento\""
      ]
    }
  ]
}