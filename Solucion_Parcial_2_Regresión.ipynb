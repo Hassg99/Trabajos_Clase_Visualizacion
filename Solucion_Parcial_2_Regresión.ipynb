{
  "nbformat": 4,
  "nbformat_minor": 0,
  "metadata": {
    "kernelspec": {
      "display_name": "Python 3",
      "language": "python",
      "name": "python3"
    },
    "language_info": {
      "codemirror_mode": {
        "name": "ipython",
        "version": 3
      },
      "file_extension": ".py",
      "mimetype": "text/x-python",
      "name": "python",
      "nbconvert_exporter": "python",
      "pygments_lexer": "ipython3",
      "version": "3.5.1"
    },
    "colab": {
      "name": "Solucion_Parcial 2 Regresión.ipynb",
      "provenance": [],
      "collapsed_sections": []
    }
  },
  "cells": [
    {
      "cell_type": "markdown",
      "metadata": {
        "id": "KoTCL114vdUj"
      },
      "source": [
        "# Parcial 2 práctico\n",
        "\n",
        "## Previsión del uso de un sistema de bicicletas compartidas en la ciudad\n",
        "\n",
        "Los sistemas de bicicletas compartidas son un medio de alquilar bicicletas en el que el proceso de obtención de la membresía, el alquiler y la devolución de la bicicleta se automatiza a través de una red de quioscos repartidos por la ciudad. Gracias a estos sistemas, los usuarios pueden alquilar una bicicleta en un lugar y devolverla en otro cuando lo necesiten. En la actualidad, hay más de 500 programas de bicicletas compartidas en todo el mundo.\n",
        "\n",
        "Los datos generados por estos sistemas los hacen atractivos para los investigadores, ya que se registra explícitamente la duración del viaje, el lugar de salida, el lugar de llegada y el tiempo transcurrido. Los sistemas de bicicletas compartidas funcionan, por tanto, como una red de sensores que puede utilizarse para estudiar la movilidad en una ciudad. En este concurso, se pide a los participantes que combinen los patrones de uso histórico con los datos meteorológicos para prever la demanda de alquiler de bicicletas en el programa Capital Bikeshare de Washington, D.C.\n",
        "\n",
        "Objetivo: Estimar una regresión utilizando los datos de Capital Bikeshare, teniendo en cuenta las siguientes variables:\n",
        "\n",
        "* datetime - fecha horaria + timestamp  \n",
        "* season -  \n",
        "  * 1 = primavera\n",
        "  * 2 = verano \n",
        "  * 3 = otoño \n",
        "  * 4 = invierno \n",
        "* holiday - si el día se considera festivo\n",
        "* workingday - si el día no es ni fin de semana ni festivo\n",
        "* weather - \n",
        "  * 1: Despejado, Pocas nubes, Parcialmente nublado, Parcialmente nublado \n",
        "  * 2: Niebla + Nublado, Niebla + Nubes dispersas, Niebla + Pocas nubes, Niebla \n",
        "  * 3: Nieve ligera, Lluvia ligera + Tormenta + Nubes dispersas, Lluvia ligera + Nubes dispersas \n",
        "  * 4: Lluvia intensa + Paletas de hielo + Tormenta eléctrica + Nieve, Nieve + Niebla \n",
        "* temp - temperatura en Celsius\n",
        "* atemp - temperatura en Celsius\n",
        "* humidity - humedad relativa\n",
        "* windspeed - velocidad del viento\n",
        "* casual - número de alquileres iniciados por usuarios no registrados\n",
        "* registered - número de alquileres iniciados por usuarios registrados\n",
        "* **total - número de alquileres totales** (variable a predecir)\n"
      ]
    },
    {
      "cell_type": "code",
      "metadata": {
        "id": "5gjKv9jjvdUq",
        "colab": {
          "base_uri": "https://localhost:8080/",
          "height": 232
        },
        "outputId": "b8631be6-636e-46da-8a70-ddbf90b8f898"
      },
      "source": [
        "import pandas as pd\n",
        "import numpy as np\n",
        "\n",
        "%matplotlib inline\n",
        "import matplotlib.pyplot as plt\n",
        "\n",
        "url = 'https://raw.githubusercontent.com/justmarkham/DAT8/master/data/bikeshare.csv'\n",
        "bikes = pd.read_csv(url, index_col='datetime', parse_dates=True)\n",
        "\n",
        "bikes.rename(columns={'count':'total'}, inplace=True)\n",
        "\n",
        "bikes.head()"
      ],
      "execution_count": 1,
      "outputs": [
        {
          "output_type": "execute_result",
          "data": {
            "text/html": [
              "<div>\n",
              "<style scoped>\n",
              "    .dataframe tbody tr th:only-of-type {\n",
              "        vertical-align: middle;\n",
              "    }\n",
              "\n",
              "    .dataframe tbody tr th {\n",
              "        vertical-align: top;\n",
              "    }\n",
              "\n",
              "    .dataframe thead th {\n",
              "        text-align: right;\n",
              "    }\n",
              "</style>\n",
              "<table border=\"1\" class=\"dataframe\">\n",
              "  <thead>\n",
              "    <tr style=\"text-align: right;\">\n",
              "      <th></th>\n",
              "      <th>season</th>\n",
              "      <th>holiday</th>\n",
              "      <th>workingday</th>\n",
              "      <th>weather</th>\n",
              "      <th>temp</th>\n",
              "      <th>atemp</th>\n",
              "      <th>humidity</th>\n",
              "      <th>windspeed</th>\n",
              "      <th>casual</th>\n",
              "      <th>registered</th>\n",
              "      <th>total</th>\n",
              "    </tr>\n",
              "    <tr>\n",
              "      <th>datetime</th>\n",
              "      <th></th>\n",
              "      <th></th>\n",
              "      <th></th>\n",
              "      <th></th>\n",
              "      <th></th>\n",
              "      <th></th>\n",
              "      <th></th>\n",
              "      <th></th>\n",
              "      <th></th>\n",
              "      <th></th>\n",
              "      <th></th>\n",
              "    </tr>\n",
              "  </thead>\n",
              "  <tbody>\n",
              "    <tr>\n",
              "      <th>2011-01-01 00:00:00</th>\n",
              "      <td>1</td>\n",
              "      <td>0</td>\n",
              "      <td>0</td>\n",
              "      <td>1</td>\n",
              "      <td>9.84</td>\n",
              "      <td>14.395</td>\n",
              "      <td>81</td>\n",
              "      <td>0.0</td>\n",
              "      <td>3</td>\n",
              "      <td>13</td>\n",
              "      <td>16</td>\n",
              "    </tr>\n",
              "    <tr>\n",
              "      <th>2011-01-01 01:00:00</th>\n",
              "      <td>1</td>\n",
              "      <td>0</td>\n",
              "      <td>0</td>\n",
              "      <td>1</td>\n",
              "      <td>9.02</td>\n",
              "      <td>13.635</td>\n",
              "      <td>80</td>\n",
              "      <td>0.0</td>\n",
              "      <td>8</td>\n",
              "      <td>32</td>\n",
              "      <td>40</td>\n",
              "    </tr>\n",
              "    <tr>\n",
              "      <th>2011-01-01 02:00:00</th>\n",
              "      <td>1</td>\n",
              "      <td>0</td>\n",
              "      <td>0</td>\n",
              "      <td>1</td>\n",
              "      <td>9.02</td>\n",
              "      <td>13.635</td>\n",
              "      <td>80</td>\n",
              "      <td>0.0</td>\n",
              "      <td>5</td>\n",
              "      <td>27</td>\n",
              "      <td>32</td>\n",
              "    </tr>\n",
              "    <tr>\n",
              "      <th>2011-01-01 03:00:00</th>\n",
              "      <td>1</td>\n",
              "      <td>0</td>\n",
              "      <td>0</td>\n",
              "      <td>1</td>\n",
              "      <td>9.84</td>\n",
              "      <td>14.395</td>\n",
              "      <td>75</td>\n",
              "      <td>0.0</td>\n",
              "      <td>3</td>\n",
              "      <td>10</td>\n",
              "      <td>13</td>\n",
              "    </tr>\n",
              "    <tr>\n",
              "      <th>2011-01-01 04:00:00</th>\n",
              "      <td>1</td>\n",
              "      <td>0</td>\n",
              "      <td>0</td>\n",
              "      <td>1</td>\n",
              "      <td>9.84</td>\n",
              "      <td>14.395</td>\n",
              "      <td>75</td>\n",
              "      <td>0.0</td>\n",
              "      <td>0</td>\n",
              "      <td>1</td>\n",
              "      <td>1</td>\n",
              "    </tr>\n",
              "  </tbody>\n",
              "</table>\n",
              "</div>"
            ],
            "text/plain": [
              "                     season  holiday  workingday  ...  casual  registered  total\n",
              "datetime                                          ...                           \n",
              "2011-01-01 00:00:00       1        0           0  ...       3          13     16\n",
              "2011-01-01 01:00:00       1        0           0  ...       8          32     40\n",
              "2011-01-01 02:00:00       1        0           0  ...       5          27     32\n",
              "2011-01-01 03:00:00       1        0           0  ...       3          10     13\n",
              "2011-01-01 04:00:00       1        0           0  ...       0           1      1\n",
              "\n",
              "[5 rows x 11 columns]"
            ]
          },
          "metadata": {},
          "execution_count": 1
        }
      ]
    },
    {
      "cell_type": "code",
      "metadata": {
        "id": "J6LCDiuhvdUw",
        "colab": {
          "base_uri": "https://localhost:8080/"
        },
        "outputId": "dc9b2458-6544-4c46-da2c-842484ae7469"
      },
      "source": [
        "bikes.shape"
      ],
      "execution_count": 2,
      "outputs": [
        {
          "output_type": "execute_result",
          "data": {
            "text/plain": [
              "(10886, 11)"
            ]
          },
          "metadata": {},
          "execution_count": 2
        }
      ]
    },
    {
      "cell_type": "markdown",
      "metadata": {
        "id": "65P3UaX0vdUy"
      },
      "source": [
        "# Punto 1\n",
        "\n",
        "Utilizando sklearn estima una regresión lineal teniendo en cuenta estas dos variables y prediga el porcentaje total de bicicletas cuando la temperatura es de 31 grados, regresion linal simple temperatura-Capital Bikeshare"
      ]
    },
    {
      "cell_type": "code",
      "metadata": {
        "id": "v18vGcYxwitk"
      },
      "source": [
        "#Regresion lineal simple: total - temp \n",
        "\n",
        "import pandas as pd\n",
        "import numpy as np\n",
        "%matplotlib inline\n",
        "import matplotlib.pyplot as plt\n",
        "from sklearn.linear_model import LinearRegression\n",
        "from sklearn.linear_model import SGDRegressor\n",
        "from sklearn.linear_model import LinearRegression\n"
      ],
      "execution_count": 18,
      "outputs": []
    },
    {
      "cell_type": "code",
      "metadata": {
        "colab": {
          "base_uri": "https://localhost:8080/"
        },
        "id": "Ll2JW8CFYvvE",
        "outputId": "2c6096a8-7162-47b6-d64f-c785a8966df6"
      },
      "source": [
        "###### CON LOS DATOS NORMALIZADOS:\n",
        "\n",
        "from sklearn.linear_model import LinearRegression\n",
        "from sklearn.linear_model import SGDRegressor\n",
        "\n",
        "#Normalizar los datos\n",
        "#Se normaliza los datos de la variable respuesta ya que se quiere el resultado en porcentaje.\n",
        "\n",
        "feature_cols = ['temp']                          \n",
        "X = bikes[feature_cols]                          \n",
        "y = bikes.total    \n",
        "\n",
        "y_mean, y_std = Y.mean(), Y.std()\n",
        "#X_mean, X_std = X.mean(), X.std()\n",
        "\n",
        "y = (Y - y_mean)/ y_std\n",
        "#X = (X - X_mean)/ X_std\n",
        "\n",
        "#Modelo\n",
        "linreg = LinearRegression()                                                        \n",
        "linreg.fit(X, y)\n",
        "\n",
        "#Predicciones\n",
        "bikes['pred'] = linreg.predict(X) \n",
        "\n",
        "#Prediccion total de bicicletas cuando la temperatura es 31 grados\n",
        "test = np.array(31)          \n",
        "test = test.reshape(-1,1)   \n",
        "linreg.predict(test)\n",
        "\n",
        "#Interpretacion: "
      ],
      "execution_count": 54,
      "outputs": [
        {
          "output_type": "execute_result",
          "data": {
            "text/plain": [
              "array([0.54519382])"
            ]
          },
          "metadata": {},
          "execution_count": 54
        }
      ]
    },
    {
      "cell_type": "markdown",
      "metadata": {
        "id": "U7hF9Hkva2EM"
      },
      "source": [
        "Interpretacion: Cuando la temperatura es de 31 Celsius, se espera que el porcentaje total de bicicletas aumente en un 54.51%"
      ]
    },
    {
      "cell_type": "code",
      "metadata": {
        "colab": {
          "base_uri": "https://localhost:8080/"
        },
        "id": "q2FMYSatRRGu",
        "outputId": "91b80f91-5295-4db4-939f-95dc8eaaa2c5"
      },
      "source": [
        "#### MODELO CON LOS DATOS SIN NOMALIZAR ###\n",
        "feature_cols = ['temp']                          \n",
        "X = bikes[feature_cols]                          \n",
        "y = bikes.total   \n",
        "\n",
        "linreg = LinearRegression()                                                        \n",
        "linreg.fit(X, y)\n",
        "\n",
        "bikes['pred'] = linreg.predict(X) #Predicciones\n",
        "\n",
        "#Modelo escrito\n",
        "\n",
        "linreg.intercept_ + linreg.coef_\n",
        "\n",
        "#Prediccion total de bicicletas cuando la temperatura es 31 grados\n",
        "test = np.array(31)          \n",
        "test = test.reshape(-1,1)   \n",
        "linreg.predict(test)"
      ],
      "execution_count": 60,
      "outputs": [
        {
          "output_type": "execute_result",
          "data": {
            "text/plain": [
              "array([290.33296788])"
            ]
          },
          "metadata": {},
          "execution_count": 60
        }
      ]
    },
    {
      "cell_type": "code",
      "metadata": {
        "colab": {
          "base_uri": "https://localhost:8080/",
          "height": 296
        },
        "id": "Kg3wxKovSBD_",
        "outputId": "7b9d4b2b-89df-41e5-f12b-70490ad76923"
      },
      "source": [
        "plt.scatter(bikes.temp, bikes.total)\n",
        "plt.plot(bikes.temp, bikes.pred, color='red')\n",
        "plt.xlabel('Temperatura')\n",
        "plt.ylabel('número de alquileres totales')"
      ],
      "execution_count": 61,
      "outputs": [
        {
          "output_type": "execute_result",
          "data": {
            "text/plain": [
              "Text(0, 0.5, 'número de alquileres totales')"
            ]
          },
          "metadata": {},
          "execution_count": 61
        },
        {
          "output_type": "display_data",
          "data": {
            "image/png": "[encoded data removed]",
            "text/plain": [
              "<Figure size 432x288 with 1 Axes>"
            ]
          },
          "metadata": {
            "needs_background": "light"
          }
        }
      ]
    },
    {
      "cell_type": "markdown",
      "metadata": {
        "id": "YjEBHHSVvdU6"
      },
      "source": [
        "# Punto 2\n",
        "\n",
        "Evaluar el modelo con el $R^2$ y $RMSE$\n"
      ]
    },
    {
      "cell_type": "code",
      "metadata": {
        "id": "XOVR8CrKyfV8",
        "colab": {
          "base_uri": "https://localhost:8080/"
        },
        "outputId": "95b4dc38-36c6-42bd-9f80-f9b1d8c0dce2"
      },
      "source": [
        "from sklearn import metrics\n",
        "import numpy as np\n",
        "\n",
        "print('R2:', metrics.r2_score(bikes['total'], bikes['pred'])*100)\n",
        "print('RMSE:', np.sqrt(metrics.mean_squared_error(bikes['total'], bikes['pred'])))"
      ],
      "execution_count": 62,
      "outputs": [
        {
          "output_type": "stream",
          "name": "stdout",
          "text": [
            "R2: 15.559367802794855\n",
            "RMSE: 166.44886243326746\n"
          ]
        }
      ]
    },
    {
      "cell_type": "markdown",
      "metadata": {
        "id": "SQqoR6y8vdVG"
      },
      "source": [
        "# Punto 3\n",
        "\n",
        "Estime una regresión utilizando más características ['temp', 'season', 'weather', 'humidity'].\n",
        "\n",
        "¿Cómo es el rendimiento en comparación con el uso de sólo la temperatura? Evalue en las metricas anteriormente calculadas."
      ]
    },
    {
      "cell_type": "code",
      "metadata": {
        "id": "MTptrgkMyfC7"
      },
      "source": [
        "from sklearn.linear_model import LinearRegression\n",
        "\n",
        "clf1 = LinearRegression()\n",
        "clf1.fit(bikes[['temp', 'season', 'weather', 'humidity']], bikes['total'])\n",
        "\n",
        "y_pred = clf1.predict(bikes[['temp', 'season', 'weather', 'humidity']])"
      ],
      "execution_count": 63,
      "outputs": []
    },
    {
      "cell_type": "code",
      "metadata": {
        "colab": {
          "base_uri": "https://localhost:8080/"
        },
        "id": "viD9OdC_cAGj",
        "outputId": "5e7d4152-a101-4881-806a-edcfb18e281a"
      },
      "source": [
        "print('R2:', metrics.r2_score(bikes['total'], y_pred)*100)\n",
        "print('RMSE:', np.sqrt(metrics.mean_squared_error(bikes['total'], y_pred)))"
      ],
      "execution_count": 64,
      "outputs": [
        {
          "output_type": "stream",
          "name": "stdout",
          "text": [
            "R2: 25.829758327282125\n",
            "RMSE: 155.99832684186404\n"
          ]
        }
      ]
    },
    {
      "cell_type": "code",
      "metadata": {
        "id": "RNfqkCVccHAL"
      },
      "source": [
        "#A comparación con el uso de solo la temperatura, se observa que al añadir mas variables el modelo se ajusta mejor.\n",
        "#esto es porque este ultimo modelo tiene un R2 mas alto y un RMSE menor."
      ],
      "execution_count": 65,
      "outputs": []
    },
    {
      "cell_type": "markdown",
      "metadata": {
        "id": "AKeKNdnjvdVM"
      },
      "source": [
        "# Punto 4\n",
        "\n",
        "Dividir aleatoriamente los datos en entrenamiento y prueba, utilizando la semilla 30402 y la particición 70% para entrenamiento y 30% en test.\n",
        "\n",
        "¿Cuál de los siguientes modelos es el mejor en el conjunto de test, teniendo en cuenta las anteriores metricas?\n",
        "* ['temp', 'season', 'weather', 'humidity']\n",
        "* ['temp', 'season', 'weather']\n",
        "* ['temp', 'season', 'humidity']\n"
      ]
    },
    {
      "cell_type": "code",
      "metadata": {
        "id": "Rtpe7Y7AVHo1"
      },
      "source": [
        "from sklearn.model_selection import train_test_split\n",
        "from sklearn import metrics\n",
        "import numpy as np"
      ],
      "execution_count": 77,
      "outputs": []
    },
    {
      "cell_type": "code",
      "metadata": {
        "colab": {
          "base_uri": "https://localhost:8080/"
        },
        "id": "R6DxnstOdd9a",
        "outputId": "160fe97b-1da7-4456-e05a-3ea04af31c55"
      },
      "source": [
        "#MODELO 1: CON ['temp', 'season', 'weather', 'humidity']\n",
        "\n",
        "feature_cols = ['temp', 'season', 'weather', 'humidity']\n",
        "X = bikes[feature_cols]\n",
        "y = bikes['total']\n",
        "\n",
        "# Train-test\n",
        "X_train, X_test, y_train, y_test = train_test_split(X, y, test_size=0.3, random_state=30402)\n",
        "\n",
        "print(X_train.shape, X_test.shape, y_train.shape, y_test.shape)  \n",
        "\n",
        "# Estimar el modelo #1: con variables ['temp', 'season', 'weather', 'humidity']\n",
        "\n",
        "clf1_tt = LinearRegression()\n",
        "clf1_tt.fit(X_train, y_train) \n",
        "y_pred_tt = clf1.predict(X_test)\n",
        "\n",
        "print('MSE regresión lineal test:', metrics.mean_squared_error(y_test, y_pred_tt))\n",
        "y_pred_tt = clf1.predict(X_train)\n",
        "print('MSE regresión lineal train:', metrics.mean_squared_error(y_train, y_pred_tt))"
      ],
      "execution_count": 74,
      "outputs": [
        {
          "output_type": "stream",
          "name": "stdout",
          "text": [
            "(7620, 4) (3266, 4) (7620,) (3266,)\n",
            "MSE regresión lineal test: 24857.79771097136\n",
            "MSE regresión lineal train: 24111.607078557525\n"
          ]
        }
      ]
    },
    {
      "cell_type": "code",
      "metadata": {
        "colab": {
          "base_uri": "https://localhost:8080/"
        },
        "id": "xhmDBJPtfCl6",
        "outputId": "3536c198-95be-4aaa-f257-54c2deca15f1"
      },
      "source": [
        "#MODELO 2: CON ['temp', 'season', 'weather']\n",
        "\n",
        "feature_cols = ['temp', 'season', 'weather']\n",
        "X = bikes[feature_cols]\n",
        "y = bikes['total']\n",
        "\n",
        "# Train-test\n",
        "X_train, X_test, y_train, y_test = train_test_split(X, y, test_size=0.3, random_state=30402)\n",
        "\n",
        "print(X_train.shape, X_test.shape, y_train.shape, y_test.shape)  \n",
        "\n",
        "# Estimar el modelo #1: con variables ['temp', 'season', 'weather', 'humidity']\n",
        "\n",
        "modelo = LinearRegression()\n",
        "modelo.fit(X_train, y_train) \n",
        "y_pred_tt = modelo.predict(X_test)\n",
        "\n",
        "print('MSE regresión lineal test:', metrics.mean_squared_error(y_test, y_pred_tt))\n",
        "y_pred_tt = modelo.predict(X_train)\n",
        "print('MSE regresión lineal train:', metrics.mean_squared_error(y_train, y_pred_tt))"
      ],
      "execution_count": 81,
      "outputs": [
        {
          "output_type": "stream",
          "name": "stdout",
          "text": [
            "(7620, 3) (3266, 3) (7620,) (3266,)\n",
            "MSE regresión lineal test: 27527.654469247784\n",
            "MSE regresión lineal train: 27039.506942592783\n"
          ]
        }
      ]
    },
    {
      "cell_type": "code",
      "metadata": {
        "colab": {
          "base_uri": "https://localhost:8080/"
        },
        "id": "lbLBndqifCfD",
        "outputId": "f84baff9-b72d-46d7-804a-138b140624e5"
      },
      "source": [
        "#MODELO 3: CON ['temp', 'season', 'humidity']\n",
        "\n",
        "feature_cols = ['temp', 'season', 'humidity']\n",
        "X = bikes[feature_cols]\n",
        "y = bikes['total']\n",
        "\n",
        "# Train-test\n",
        "X_train, X_test, y_train, y_test = train_test_split(X, y, test_size=0.3, random_state=30402)\n",
        "\n",
        "print(X_train.shape, X_test.shape, y_train.shape, y_test.shape)  \n",
        "\n",
        "# Estimar el modelo #1: con variables ['temp', 'season', 'weather', 'humidity']\n",
        "\n",
        "modelo3 = LinearRegression()\n",
        "modelo3.fit(X_train, y_train) \n",
        "y_pred_tt = modelo3.predict(X_test)\n",
        "\n",
        "print('MSE regresión lineal test:', metrics.mean_squared_error(y_test, y_pred_tt))\n",
        "y_pred_tt = modelo3.predict(X_train)\n",
        "print('MSE regresión lineal train:', metrics.mean_squared_error(y_train, y_pred_tt))"
      ],
      "execution_count": 82,
      "outputs": [
        {
          "output_type": "stream",
          "name": "stdout",
          "text": [
            "(7620, 3) (3266, 3) (7620,) (3266,)\n",
            "MSE regresión lineal test: 24899.071390322504\n",
            "MSE regresión lineal train: 24118.055803503703\n"
          ]
        }
      ]
    },
    {
      "cell_type": "code",
      "metadata": {
        "id": "UCTVD97kf-qp"
      },
      "source": [
        "#El mejor modelo resulta ser el primero pues dio un menor MSE"
      ],
      "execution_count": null,
      "outputs": []
    },
    {
      "cell_type": "markdown",
      "metadata": {
        "id": "ELNItZ9VyXIq"
      },
      "source": [
        "# Punto 5\n",
        "\n",
        "Responda ¿Cuándo se estrena la nueva adaptación de Dune?"
      ]
    },
    {
      "cell_type": "code",
      "metadata": {
        "id": "sxj_xQYUydrn"
      },
      "source": [
        ""
      ],
      "execution_count": null,
      "outputs": []
    }
  ]
}